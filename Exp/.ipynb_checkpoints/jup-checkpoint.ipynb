{
 "cells": [
  {
   "cell_type": "code",
   "execution_count": 3,
   "metadata": {},
   "outputs": [],
   "source": [
    "import numpy as np\n",
    "import pandas as pd\n",
    "import seaborn as sns\n",
    "import subprocess\n",
    "import matplotlib.pyplot as plt\n",
    "import glob, os\n",
    "import math\n",
    "import random\n",
    "from subprocess import Popen, PIPE"
   ]
  },
  {
   "cell_type": "code",
   "execution_count": 4,
   "metadata": {},
   "outputs": [
    {
     "name": "stdout",
     "output_type": "stream",
     "text": [
      "Ejecutando tests\n",
      "Finished executing dataset test1 with 1 amount of threads\n",
      "Finished executing dataset test1 with 5 amount of threads\n",
      "Finished executing dataset test1 with 10 amount of threads\n",
      "Finished executing dataset test1 with 15 amount of threads\n",
      "Finished executing dataset test1 with 20 amount of threads\n",
      "Finished executing dataset test1 with 25 amount of threads\n",
      "Finished executing dataset test1 with 30 amount of threads\n"
     ]
    }
   ],
   "source": [
    "\n",
    "\n",
    "executablePath = './../codigo/build/ContarPalabras'\n",
    "os.chdir(\"./\")\n",
    "datasets = os.listdir(\"./data/\")\n",
    "\n",
    "print (\"Ejecutando tests\")\n",
    "\n",
    "for dataset in datasets:\n",
    "\t#create output file\n",
    "\tresults = './results/%s.csv' %(dataset)\n",
    "\toutputFile = open(results, 'w+')\n",
    "\toutputFile.write(\"cantThreads,time,algorithm\\n\")\n",
    "\n",
    "\targs = \"\"\n",
    "\tfor file in os.listdir(\"./data/\" + dataset):\n",
    "\t\targs += \" ./data/\" + dataset + \"/\" + file\n",
    "\n",
    "\tfor cantThreads in [1,5,10,15,20,26]:\n",
    "\t\tcommand = executablePath + \" %s %s %s\" % (cantThreads, cantThreads, args)\n",
    "\t\tp = subprocess.Popen(command, shell=True, stdout=subprocess.PIPE)\n",
    "\t\tp.wait()\n",
    "\n",
    "\t\tprint(\"Finished executing dataset %s with %s amount of threads\" % (dataset, cantThreads))\n",
    "\t\toutput=p.stdout.read().decode(\"utf-8\")\n",
    "\t\toutputFile.write(output)\n",
    "\t\n",
    "\toutputFile.close()"
   ]
  },
  {
   "cell_type": "code",
   "execution_count": 84,
   "metadata": {},
   "outputs": [],
   "source": [
    "os.chdir(\"./\")\n",
    "resultsPath=\"./results/\"\n",
    "results = os.listdir(resultsPath)"
   ]
  },
  {
   "cell_type": "code",
   "execution_count": 85,
   "metadata": {},
   "outputs": [
    {
     "name": "stdout",
     "output_type": "stream",
     "text": [
      "    cantThreads    time                 algorithm\n",
      "0             1  607474   cargarMultiplesArchivos\n",
      "1             1   51225            maximoParalelo\n",
      "2             5  363999   cargarMultiplesArchivos\n",
      "3             5  110194            maximoParalelo\n",
      "4            10  429964   cargarMultiplesArchivos\n",
      "5            10  146907            maximoParalelo\n",
      "6            15  555377   cargarMultiplesArchivos\n",
      "7            15  326425            maximoParalelo\n",
      "8            20  379277   cargarMultiplesArchivos\n",
      "9            20  378967            maximoParalelo\n",
      "10           25  680995   cargarMultiplesArchivos\n",
      "11           25  377069            maximoParalelo\n"
     ]
    },
    {
     "data": {
      "image/png": "[encoded data removed]",
      "text/plain": [
       "<Figure size 432x288 with 1 Axes>"
      ]
     },
     "metadata": {
      "needs_background": "light"
     },
     "output_type": "display_data"
    }
   ],
   "source": [
    "for file in results: \n",
    "    df = pd.read_csv(resultsPath + file, header=[0])\n",
    "    #df['time'] = pd.to_datetime(df['time'], unit='ms')\n",
    "    print(df)\n",
    "    ax= sns.lineplot(data=df, x='cantThreads', y='time',hue=\"algorithm\", ci=None)"
   ]
  },
  {
   "cell_type": "code",
   "execution_count": null,
   "metadata": {},
   "outputs": [],
   "source": []
  }
 ],
 "metadata": {
  "kernelspec": {
   "display_name": "Python 3",
   "language": "python",
   "name": "python3"
  },
  "language_info": {
   "codemirror_mode": {
    "name": "ipython",
    "version": 3
   },
   "file_extension": ".py",
   "mimetype": "text/x-python",
   "name": "python",
   "nbconvert_exporter": "python",
   "pygments_lexer": "ipython3",
   "version": "3.8.10"
  }
 },
 "nbformat": 4,
 "nbformat_minor": 2
}
