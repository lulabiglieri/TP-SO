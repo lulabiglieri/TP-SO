{
 "cells": [
  {
   "cell_type": "markdown",
   "metadata": {},
   "source": [
    "# Generador de datasets"
   ]
  },
  {
   "cell_type": "code",
   "execution_count": 9,
   "metadata": {},
   "outputs": [],
   "source": [
    "import pandas as pd\n",
    "import seaborn as sns\n",
    "import matplotlib.pyplot as plt\n",
    "import random \n",
    "import string\n",
    "import glob, os"
   ]
  },
  {
   "cell_type": "code",
   "execution_count": 19,
   "metadata": {},
   "outputs": [],
   "source": [
    "cant_palabras = 5015\n",
    "\n",
    "def generador(filename, char, n):\n",
    "    file = open(f'data/{filename}.txt', 'a')\n",
    "    for _ in range(n):\n",
    "        word = ''.join(random.choice(string.ascii_lowercase) for _ in range(random.randint(3, 9)))\n",
    "        word = char + word\n",
    "        file.write(word + '\\n')\n",
    "    file.close()"
   ]
  },
  {
   "cell_type": "markdown",
   "metadata": {},
   "source": [
    "### Distribucion Uniforme"
   ]
  },
  {
   "cell_type": "code",
   "execution_count": 23,
   "metadata": {},
   "outputs": [
    {
     "name": "stdout",
     "output_type": "stream",
     "text": [
      "5014.999999999998\n"
     ]
    }
   ],
   "source": [
    "char = 'a'\n",
    "sumaUni = 0\n",
    "for i in range(0,26):\n",
    "    generador(\"uniforme\",char, int(cant_palabras/26) )\n",
    "    char = chr(ord(char) + 1)\n",
    "    sumaUni += cant_palabras/26\n",
    "print(sumaUni) "
   ]
  },
  {
   "cell_type": "markdown",
   "metadata": {},
   "source": [
    "### Distribucion Normal"
   ]
  },
  {
   "cell_type": "code",
   "execution_count": 30,
   "metadata": {},
   "outputs": [
    {
     "name": "stdout",
     "output_type": "stream",
     "text": [
      "10268\n"
     ]
    }
   ],
   "source": [
    "char = 'a'\n",
    "suma =0 \n",
    "for i in range(1,14):\n",
    "    generador(\"normal\",char, int(i*25.78))\n",
    "    char = chr(ord(char) + 1)   \n",
    "    suma += int(i*25.78) \n",
    "for i in range(14,1,-1):        \n",
    "    generador(\"normal\",char,int(i*25.78) )\n",
    "    char = chr(ord(char) + 1)\n",
    "    suma += int(i*25.78)\n",
    "print(suma) "
   ]
  },
  {
   "cell_type": "markdown",
   "metadata": {},
   "source": [
    "### Ploteo distribuciones"
   ]
  },
  {
   "cell_type": "code",
   "execution_count": 5,
   "metadata": {},
   "outputs": [
    {
     "data": {
      "image/png": "[encoded data removed]",
      "text/plain": [
       "<Figure size 432x288 with 1 Axes>"
      ]
     },
     "metadata": {
      "needs_background": "light"
     },
     "output_type": "display_data"
    }
   ],
   "source": [
    "letter_count = {}\n",
    "datasetPath = './data/uniforme.txt'\n",
    "\n",
    "file = open(datasetPath, 'r')\n",
    "for line in file:\n",
    "    letter_count[line[0]] = letter_count.get(line[0],0) +1\n",
    "    \n",
    "df = pd.DataFrame(letter_count.items(), columns=['letter', 'count'])\n",
    "df = df.sort_values([\"letter\"])\n",
    "df.head()\n",
    "\n",
    "sns.set_style(\"whitegrid\")\n",
    "ax = sns.barplot(data=df,x='letter', y='count', color=\"tab:blue\")\n",
    "ax.set_title(\"Distribución uniforme de palabras segun inicial\")\n",
    "fig = ax.get_figure()"
   ]
  },
  {
   "cell_type": "code",
   "execution_count": 31,
   "metadata": {},
   "outputs": [
    {
     "name": "stderr",
     "output_type": "stream",
     "text": [
      "/usr/lib/python3/dist-packages/IPython/core/pylabtools.py:132: UserWarning: Glyph 127 () missing from current font.\n",
      "  fig.canvas.print_figure(bytes_io, **kw)\n",
      "/usr/lib/python3/dist-packages/IPython/core/pylabtools.py:132: UserWarning: Glyph 128 (\\x80) missing from current font.\n",
      "  fig.canvas.print_figure(bytes_io, **kw)\n",
      "/usr/lib/python3/dist-packages/IPython/core/pylabtools.py:132: UserWarning: Glyph 129 (\\x81) missing from current font.\n",
      "  fig.canvas.print_figure(bytes_io, **kw)\n",
      "/usr/lib/python3/dist-packages/IPython/core/pylabtools.py:132: UserWarning: Glyph 130 (\\x82) missing from current font.\n",
      "  fig.canvas.print_figure(bytes_io, **kw)\n",
      "/usr/lib/python3/dist-packages/IPython/core/pylabtools.py:132: UserWarning: Glyph 131 (\\x83) missing from current font.\n",
      "  fig.canvas.print_figure(bytes_io, **kw)\n",
      "/usr/lib/python3/dist-packages/IPython/core/pylabtools.py:132: UserWarning: Glyph 132 (\\x84) missing from current font.\n",
      "  fig.canvas.print_figure(bytes_io, **kw)\n",
      "/usr/lib/python3/dist-packages/IPython/core/pylabtools.py:132: UserWarning: Glyph 133 (\\x85) missing from current font.\n",
      "  fig.canvas.print_figure(bytes_io, **kw)\n",
      "/usr/lib/python3/dist-packages/IPython/core/pylabtools.py:132: UserWarning: Glyph 134 (\\x86) missing from current font.\n",
      "  fig.canvas.print_figure(bytes_io, **kw)\n"
     ]
    },
    {
     "data": {
      "image/png": "[encoded data removed]",
      "text/plain": [
       "<Figure size 432x288 with 1 Axes>"
      ]
     },
     "metadata": {},
     "output_type": "display_data"
    }
   ],
   "source": [
    "letter_count = {}\n",
    "datasetPath = './data/normal.txt'\n",
    "\n",
    "file = open(datasetPath, 'r')\n",
    "for line in file:\n",
    "    letter_count[line[0]] = letter_count.get(line[0],0) +1\n",
    "    \n",
    "df = pd.DataFrame(letter_count.items(), columns=['letter', 'count'])\n",
    "df = df.sort_values([\"letter\"])\n",
    "df.head()\n",
    "\n",
    "sns.set_style(\"whitegrid\")\n",
    "ax = sns.barplot(data=df,x='letter', y='count', color=\"tab:blue\")\n",
    "ax.set_title(\"Distribución normal de palabras segun inicial\")\n",
    "fig = ax.get_figure()"
   ]
  },
  {
   "cell_type": "markdown",
   "metadata": {},
   "source": [
    "### Distribucion uniforme multiple"
   ]
  },
  {
   "cell_type": "code",
   "execution_count": 24,
   "metadata": {},
   "outputs": [],
   "source": [
    "cantArchivos = 30\n",
    "cantPalabras = 150\n",
    "for i in range(0,cantArchivos):\n",
    "    char = 'a'\n",
    "    sumaUni = 0\n",
    "    for j in range(0,26):\n",
    "        generador(\"incremental/uniforme\"+str(i),char, int(cantPalabras/26) )\n",
    "        char = chr(ord(char) + 1)\n",
    "        sumaUni += cantPalabras/26\n",
    "#print(sumaUni) "
   ]
  },
  {
   "cell_type": "code",
   "execution_count": null,
   "metadata": {},
   "outputs": [],
   "source": []
  }
 ],
 "metadata": {
  "kernelspec": {
   "display_name": "Python 3",
   "language": "python",
   "name": "python3"
  },
  "language_info": {
   "codemirror_mode": {
    "name": "ipython",
    "version": 3
   },
   "file_extension": ".py",
   "mimetype": "text/x-python",
   "name": "python",
   "nbconvert_exporter": "python",
   "pygments_lexer": "ipython3",
   "version": "3.8.10"
  }
 },
 "nbformat": 4,
 "nbformat_minor": 4
}
