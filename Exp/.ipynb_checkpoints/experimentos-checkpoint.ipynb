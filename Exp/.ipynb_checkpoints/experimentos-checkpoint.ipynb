{
 "cells": [
  {
   "cell_type": "markdown",
   "metadata": {},
   "source": [
    "# Experimentacion"
   ]
  },
  {
   "cell_type": "code",
   "execution_count": null,
   "metadata": {},
   "outputs": [],
   "source": [
    "import numpy as np\n",
    "import pandas as pd\n",
    "import seaborn as sns\n",
    "import subprocess\n",
    "import matplotlib.pyplot as plt\n",
    "import glob, os\n",
    "import math\n",
    "import random\n",
    "from subprocess import Popen, PIPE\n",
    "import tqdm"
   ]
  },
  {
   "cell_type": "code",
   "execution_count": null,
   "metadata": {},
   "outputs": [],
   "source": [
    "NS_PER_SECOND = 1000000000\n",
    "\n",
    "def getTime(s, ns):\n",
    "    if (s > 0 and ns < 0):\n",
    "        ns += NS_PER_SECOND\n",
    "        s=s-1\n",
    "    elif (s < 0 and ns > 0):\n",
    "        ns -= NS_PER_SECOND\n",
    "        s=s+1\n",
    "\n",
    "    ms = ns / 1000000\n",
    "    ms += s * 1000\n",
    "    return ms"
   ]
  },
  {
   "cell_type": "code",
   "execution_count": null,
   "metadata": {},
   "outputs": [],
   "source": [
    "executablePath = './../codigo/build/ContarPalabras'\n",
    "os.chdir(\"./\")\n",
    "print(executablePath)\n",
    "\n",
    "datasets = os.listdir(\"./data/\")\n",
    "print(datasets)\n",
    "datasets = datasets[1:]\n",
    "print(datasets)"
   ]
  },
  {
   "cell_type": "code",
   "execution_count": null,
   "metadata": {},
   "outputs": [],
   "source": [
    "threads = [1,2,3,4,5,6,7,8]\n",
    "columns = ['cantThreads', 'sec', 'ns', 'algorithm']\n",
    "\n",
    "df = pd.DataFrame(columns = columns)\n",
    "dataframes = []\n",
    "\n",
    "for repeat in range(20):\n",
    "    #create output file\n",
    "    result = './results/uniforme.csv'\n",
    "    outputFile = open(result, 'w+')\n",
    "    outputFile.write(\"cantThreads,sec,ns,algorithm\\n\")\n",
    "    \n",
    "    args = \"./data/uniforme.txt\"\n",
    "    \n",
    "    for cantThreads in threads:\n",
    "        command = executablePath + \" %s %s %s\" % (cantThreads, cantThreads, args)\n",
    "        p = subprocess.Popen(command, shell=True, stdout=subprocess.PIPE)\n",
    "        p.wait()\n",
    "        \n",
    "        output=p.stdout.read().decode(\"utf-8\")\n",
    "        outputFile.write(output)\n",
    "    \n",
    "    outputFile.close()\n",
    "    \n",
    "    df = pd.read_csv(result, header=[0])\n",
    "    dataframes.append(df)\n",
    "    \n",
    "dfExp = pd.concat(dataframes)\n",
    "print(dfExp)\n",
    "dfExp['time'] = dfExp.apply(lambda row : getTime(row['sec'],row['ns']), axis = 1)\n",
    "result = dfExp.groupby(['cantThreads', 'algorithm']).mean().reset_index()\n",
    "#result['time'] = result.apply(lambda row : getTime(row['sec'],row['ns']), axis = 1)\n",
    "print(result)\n",
    "ax= sns.pointplot(data=result[(result.algorithm == 'maximoParalelo')], x='cantThreads', y='time',hue=\"algorithm\", ci=None)"
   ]
  },
  {
   "cell_type": "code",
   "execution_count": null,
   "metadata": {},
   "outputs": [],
   "source": [
    "threads = [1,2,3,4,5,6,7,8]\n",
    "columns = ['cantThreads', 'sec', 'ns', 'algorithm']\n",
    "\n",
    "df = pd.DataFrame(columns = columns)\n",
    "dataframes = []\n",
    "\n",
    "for repeat in range(20):\n",
    "    #create output file\n",
    "    result = './results/uniforme.csv'\n",
    "    outputFile = open(result, 'w+')\n",
    "    outputFile.write(\"cantThreads,sec,ns,algorithm\\n\")\n",
    "    \n",
    "    args = \"\"\n",
    "    for file in os.listdir(\"./data/incremental\"):\n",
    "            args += \" ./data/incremental/\" + file\n",
    "    \n",
    "    print (args)\n",
    "    for cantThreads in threads:\n",
    "        command = executablePath + \" %s %s %s\" % (cantThreads, cantThreads, args)\n",
    "        p = subprocess.Popen(command, shell=True, stdout=subprocess.PIPE)\n",
    "        p.wait()\n",
    "        \n",
    "        output=p.stdout.read().decode(\"utf-8\")\n",
    "        outputFile.write(output)\n",
    "    \n",
    "    outputFile.close()\n",
    "    \n",
    "    df = pd.read_csv(result, header=[0])\n",
    "    dataframes.append(df)\n",
    "    \n",
    "dfExp = pd.concat(dataframes)\n",
    "print(dfExp)\n",
    "dfExp['time'] = dfExp.apply(lambda row : getTime(row['sec'],row['ns']), axis = 1)\n",
    "result = dfExp.groupby(['cantThreads', 'algorithm']).mean().reset_index()\n",
    "print(result)\n",
    "ax= sns.pointplot(data=result[(result.algorithm == 'cargarMultiplesArchivos')], x='cantThreads', y='time',hue=\"algorithm\", ci=None)"
   ]
  },
  {
   "cell_type": "code",
   "execution_count": null,
   "metadata": {},
   "outputs": [],
   "source": []
  }
 ],
 "metadata": {
  "kernelspec": {
   "display_name": "Python 3 (ipykernel)",
   "language": "python",
   "name": "python3"
  },
  "language_info": {
   "codemirror_mode": {
    "name": "ipython",
    "version": 3
   },
   "file_extension": ".py",
   "mimetype": "text/x-python",
   "name": "python",
   "nbconvert_exporter": "python",
   "pygments_lexer": "ipython3",
   "version": "3.10.4"
  }
 },
 "nbformat": 4,
 "nbformat_minor": 4
}
