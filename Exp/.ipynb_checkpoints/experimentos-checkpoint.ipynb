{
 "cells": [
  {
   "cell_type": "markdown",
   "metadata": {},
   "source": [
    "# Experimentacion"
   ]
  },
  {
   "cell_type": "code",
   "execution_count": 2,
   "metadata": {},
   "outputs": [],
   "source": [
    "import numpy as np\n",
    "import pandas as pd\n",
    "import seaborn as sns\n",
    "import subprocess\n",
    "import matplotlib.pyplot as plt\n",
    "import glob, os\n",
    "import math\n",
    "import random\n",
    "from subprocess import Popen, PIPE\n",
    "import tqdm"
   ]
  },
  {
   "cell_type": "code",
   "execution_count": 12,
   "metadata": {},
   "outputs": [
    {
     "name": "stdout",
     "output_type": "stream",
     "text": [
      "./../codigo/build/ContarPalabras\n",
      "['incremental', 'normal.txt', 'uniforme.txt']\n",
      "['normal.txt', 'uniforme.txt']\n"
     ]
    }
   ],
   "source": [
    "executablePath = './../codigo/build/ContarPalabras'\n",
    "os.chdir(\"./\")\n",
    "print(executablePath)\n",
    "\n",
    "datasets = os.listdir(\"./data/\")\n",
    "print(datasets)\n",
    "datasets = datasets[1:]\n",
    "print(datasets)"
   ]
  },
  {
   "cell_type": "code",
   "execution_count": null,
   "metadata": {},
   "outputs": [],
   "source": [
    "threads = [1,5,10,15,20,26]\n",
    "\n",
    "for cantThreads in threads:\n",
    "    #create output file\n",
    "    results = './results/%s.csv' %(dataset)\n",
    "    outputFile = open(results, 'w+')\n",
    "    outputFile.write(\"cantThreads,time,algorithm\\n\")\n",
    "    \n",
    "    "
   ]
  },
  {
   "cell_type": "code",
   "execution_count": null,
   "metadata": {},
   "outputs": [],
   "source": [
    "for dataset in datasets:\n",
    "\t#create output file\n",
    "\tresults = './results/%s.csv' %(dataset)\n",
    "\toutputFile = open(results, 'w+')\n",
    "\toutputFile.write(\"cantThreads,time,algorithm\\n\")\n",
    "\n",
    "\targs = \"\"\n",
    "\tfor file in os.listdir(\"./data/\" + dataset):\n",
    "\t\targs += \" ./data/\" + dataset + \"/\" + file\n",
    "\n",
    "\tfor cantThreads in [1,5,10,15,20,26]:\n",
    "\t\tcommand = executablePath + \" %s %s %s\" % (cantThreads, cantThreads, args)\n",
    "\t\tp = subprocess.Popen(command, shell=True, stdout=subprocess.PIPE)\n",
    "\t\tp.wait()\n",
    "\n",
    "\t\tprint(\"Finished executing dataset %s with %s amount of threads\" % (dataset, cantThreads))\n",
    "\t\toutput=p.stdout.read().decode(\"utf-8\")\n",
    "\t\toutputFile.write(output)\n",
    "\t\n",
    "\toutputFile.close()"
   ]
  }
 ],
 "metadata": {
  "kernelspec": {
   "display_name": "Python 3",
   "language": "python",
   "name": "python3"
  },
  "language_info": {
   "codemirror_mode": {
    "name": "ipython",
    "version": 3
   },
   "file_extension": ".py",
   "mimetype": "text/x-python",
   "name": "python",
   "nbconvert_exporter": "python",
   "pygments_lexer": "ipython3",
   "version": "3.8.10"
  }
 },
 "nbformat": 4,
 "nbformat_minor": 4
}
