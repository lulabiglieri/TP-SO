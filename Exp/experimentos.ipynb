{
 "cells": [
  {
   "cell_type": "markdown",
   "metadata": {},
   "source": [
    "# Experimentacion"
   ]
  },
  {
   "cell_type": "code",
   "execution_count": 1,
   "metadata": {},
   "outputs": [],
   "source": [
    "import numpy as np\n",
    "import pandas as pd\n",
    "import seaborn as sns\n",
    "import subprocess\n",
    "import matplotlib.pyplot as plt\n",
    "import glob, os\n",
    "import math\n",
    "import random\n",
    "from subprocess import Popen, PIPE\n",
    "from tqdm import tqdm"
   ]
  },
  {
   "cell_type": "code",
   "execution_count": 2,
   "metadata": {},
   "outputs": [],
   "source": [
    "NS_PER_SECOND = 1000000000\n",
    "\n",
    "def getTime(s, ns):\n",
    "    if (s > 0 and ns < 0):\n",
    "        ns += NS_PER_SECOND\n",
    "        s=s-1\n",
    "    elif (s < 0 and ns > 0):\n",
    "        ns -= NS_PER_SECOND\n",
    "        s=s+1\n",
    "\n",
    "    ms = ns / 1000000\n",
    "    ms += s * 1000\n",
    "    return ms"
   ]
  },
  {
   "cell_type": "code",
   "execution_count": 3,
   "metadata": {},
   "outputs": [
    {
     "name": "stdout",
     "output_type": "stream",
     "text": [
      "./../codigo/build/ContarPalabras\n"
     ]
    }
   ],
   "source": [
    "executablePath = './../codigo/build/ContarPalabras'\n",
    "os.chdir(\"./\")\n",
    "print(executablePath)"
   ]
  },
  {
   "cell_type": "markdown",
   "metadata": {},
   "source": [
    "### Funciones para programa con unico archivo"
   ]
  },
  {
   "cell_type": "code",
   "execution_count": 4,
   "metadata": {},
   "outputs": [],
   "source": [
    "def correrExp(inputPath, outputPath):\n",
    "    \n",
    "    threads = [1,2,3,4,5,6,7,8,10,15,20,26]\n",
    "    columns = ['cantThreads', 'sec', 'ns', 'algorithm']\n",
    "    df = pd.DataFrame(columns = columns)\n",
    "    dataframes = []\n",
    "\n",
    "    for repeat in tqdm(range(20)):\n",
    "        #create output file\n",
    "        outputFile = open(outputPath, 'w+')\n",
    "        outputFile.write(\"cantThreads,sec,ns,algorithm\\n\")\n",
    "\n",
    "        for cantThreads in threads:\n",
    "            command = executablePath + \" %s %s %s\" % (cantThreads, cantThreads, inputPath)\n",
    "            p = subprocess.Popen(command, shell=True, stdout=subprocess.PIPE)\n",
    "            p.wait()\n",
    "\n",
    "            output=p.stdout.read().decode(\"utf-8\")\n",
    "            outputFile.write(output)\n",
    "\n",
    "        outputFile.close()\n",
    "\n",
    "        df = pd.read_csv(outputPath, header=[0])\n",
    "        dataframes.append(df)\n",
    "\n",
    "    dfExp = pd.concat(dataframes)\n",
    "    dfExp['time'] = dfExp.apply(lambda row : getTime(row['sec'],row['ns']), axis = 1)\n",
    "    dfExp = dfExp.drop(['sec', 'ns'], axis = 1)\n",
    "    result = dfExp.groupby(['cantThreads', 'algorithm']).agg({'time':['mean','std']}).reset_index()\n",
    "    return result\n",
    "\n",
    "def parseData(dataFrame, algorithm):\n",
    "    parsedDataFrame = dataFrame\n",
    "    parsedDataFrame = parsedDataFrame.loc[parsedDataFrame['algorithm'] == algorithm]\n",
    "    time = parsedDataFrame['time']['mean'].values.tolist()\n",
    "    std = parsedDataFrame['time']['std'].values.tolist()\n",
    "    cantThreads = parsedDataFrame['cantThreads'].values.tolist()\n",
    "    \n",
    "    return time, std, cantThreads"
   ]
  },
  {
   "cell_type": "markdown",
   "metadata": {},
   "source": [
    "### Multithreading en maximo paralelo con distintas distribuciones"
   ]
  },
  {
   "cell_type": "code",
   "execution_count": 7,
   "metadata": {},
   "outputs": [
    {
     "name": "stderr",
     "output_type": "stream",
     "text": [
      "100%|███████████████████████████████████████████████████████████████████████████████████████████████████████████████████████████████████████████████████████████████████████████████| 20/20 [01:21<00:00,  4.08s/it]\n"
     ]
    },
    {
     "data": {
      "image/png": "[encoded data removed]",
      "text/plain": [
       "<Figure size 432x288 with 1 Axes>"
      ]
     },
     "metadata": {
      "needs_background": "light"
     },
     "output_type": "display_data"
    }
   ],
   "source": [
    "dfUniforme = correrExp('./data/uniformeRandomized.txt','./results/uniformeRandomized.csv')\n",
    "timeUni, stdUni, cantThreadsUni = parseData(dfUniforme, 'maximoParalelo')\n",
    "\n",
    "# grafico\n",
    "plt.scatter(cantThreadsUni, timeUni)\n",
    "plt.errorbar(cantThreadsUni,timeUni, yerr = stdUni, fmt=\"o\")\n",
    "plt.xlabel('threads')\n",
    "plt.ylabel('time (ms)')\n",
    "plt.title('Distribucion Uniforme')\n",
    "\n",
    "##para guardar img\n",
    "imgPath=\"./img/mp-uniforme\"\n",
    "plt.savefig(imgPath)\n",
    "\n",
    "plt.show()"
   ]
  },
  {
   "cell_type": "code",
   "execution_count": 9,
   "metadata": {},
   "outputs": [
    {
     "name": "stderr",
     "output_type": "stream",
     "text": [
      "100%|███████████████████████████████████████████████████████████████████████████████████████████████████████████████████████████████████████████████████████████████████████████████| 20/20 [01:41<00:00,  5.08s/it]\n"
     ]
    },
    {
     "data": {
      "image/png": "[encoded data removed]",
      "text/plain": [
       "<Figure size 432x288 with 1 Axes>"
      ]
     },
     "metadata": {
      "needs_background": "light"
     },
     "output_type": "display_data"
    }
   ],
   "source": [
    "dfNormal = correrExp('./data/normalRandomized.txt','./results/normalRandomized.csv')\n",
    "timeNorm, stdNorm, cantThreadsNorm = parseData(dfNormal, 'maximoParalelo')\n",
    "\n",
    "# grafico\n",
    "plt.scatter(cantThreadsNorm, timeNorm)\n",
    "plt.errorbar(cantThreadsNorm,timeNorm, yerr = stdNorm, fmt=\"o\")\n",
    "plt.xlabel('threads')\n",
    "plt.ylabel('time (ms)')\n",
    "plt.title('Distirbucion Normal')\n",
    "\n",
    "##para guardar img\n",
    "imgPath=\"./img/mp-normal\"\n",
    "plt.savefig(imgPath)\n",
    "\n",
    "plt.show()"
   ]
  },
  {
   "cell_type": "code",
   "execution_count": 10,
   "metadata": {},
   "outputs": [
    {
     "name": "stderr",
     "output_type": "stream",
     "text": [
      "100%|███████████████████████████████████████████████████████████████████████████████████████████████████████████████████████████████████████████████████████████████████████████████| 20/20 [02:31<00:00,  7.60s/it]\n"
     ]
    },
    {
     "data": {
      "image/png": "[encoded data removed]",
      "text/plain": [
       "<Figure size 432x288 with 1 Axes>"
      ]
     },
     "metadata": {
      "needs_background": "light"
     },
     "output_type": "display_data"
    }
   ],
   "source": [
    "dfBernoulli = correrExp('./data/bernoulliRandomized.txt','./results/bernoulliRandomized.csv')\n",
    "timeBer, stdBer, cantThreadsBer = parseData(dfBernoulli, 'maximoParalelo')\n",
    "\n",
    "# grafico\n",
    "plt.scatter(cantThreadsBer, timeBer)\n",
    "plt.errorbar(cantThreadsBer,timeBer, yerr = stdBer, fmt=\"o\")\n",
    "plt.xlabel('threads')\n",
    "plt.ylabel('time (ms)')\n",
    "plt.title('Distribucion Bernoulli')\n",
    "\n",
    "##para guardar img\n",
    "imgPath=\"./img/mp-bernoulli\"\n",
    "plt.savefig(imgPath)\n",
    "\n",
    "plt.show()"
   ]
  },
  {
   "cell_type": "code",
   "execution_count": 11,
   "metadata": {},
   "outputs": [
    {
     "data": {
      "image/png": "[encoded data removed]",
      "text/plain": [
       "<Figure size 432x288 with 1 Axes>"
      ]
     },
     "metadata": {
      "needs_background": "light"
     },
     "output_type": "display_data"
    }
   ],
   "source": [
    "#IMPORTANTE: primero hay que correr *TODAS* las cells de arriba\n",
    "plt.scatter(cantThreadsBer, timeBer, label = \"bernoulli\")\n",
    "plt.errorbar(cantThreadsBer,timeBer, yerr = stdBer, fmt=\"o\")\n",
    "\n",
    "plt.scatter(cantThreadsNorm, timeNorm, label = \"normal\")\n",
    "plt.errorbar(cantThreadsNorm,timeNorm, yerr = stdNorm, fmt=\"o\")\n",
    "\n",
    "plt.scatter(cantThreadsUni, timeUni, label = \"uniforme\")\n",
    "plt.errorbar(cantThreadsUni,timeUni, yerr = stdUni, fmt=\"o\")\n",
    "\n",
    "plt.legend(loc = \"upper left\")\n",
    "plt.xlabel('threads')\n",
    "plt.ylabel('time (ms)')\n",
    "\n",
    "##para guardar img\n",
    "imgPath=\"./img/mp-comparison\"\n",
    "plt.savefig(imgPath)\n",
    "\n",
    "plt.show()"
   ]
  },
  {
   "cell_type": "markdown",
   "metadata": {},
   "source": [
    "### Multithreading en cargar multiples archivos"
   ]
  },
  {
   "cell_type": "code",
   "execution_count": 12,
   "metadata": {},
   "outputs": [],
   "source": [
    "def correrExpMult(inputPath, outputPath):\n",
    "    \n",
    "    threads = [1,2,3,4,5,6,7,8,10,15,20,26]\n",
    "    columns = ['cantThreads', 'sec', 'ns', 'algorithm']\n",
    "    df = pd.DataFrame(columns = columns)\n",
    "    dataframes = []\n",
    "    \n",
    "    for repeat in tqdm(range(10)):\n",
    "        for dataset in os.listdir(inputPath):\n",
    "            \n",
    "            #create output file\n",
    "            outputFile = open(outputPath, 'w+')\n",
    "            outputFile.write(\"cantThreads,sec,ns,algorithm\\n\")\n",
    "\n",
    "            args = \"\"\n",
    "            for file in os.listdir(inputPath):\n",
    "                args += \" \" + inputPath + file\n",
    "\n",
    "            for cantThreads in threads:\n",
    "                command = executablePath + \" %s %s %s\" % (cantThreads, cantThreads, args)\n",
    "                p = subprocess.Popen(command, shell=True, stdout=subprocess.PIPE)\n",
    "                p.wait()\n",
    "\n",
    "                output=p.stdout.read().decode(\"utf-8\")\n",
    "                outputFile.write(output)\n",
    "\n",
    "            outputFile.close()\n",
    "\n",
    "            df = pd.read_csv(outputPath, header=[0])\n",
    "            dataframes.append(df)\n",
    "\n",
    "    dfExp = pd.concat(dataframes)\n",
    "    dfExp['time'] = dfExp.apply(lambda row : getTime(row['sec'],row['ns']), axis = 1)\n",
    "    dfExp = dfExp.drop(['sec', 'ns'], axis = 1)\n",
    "    result = dfExp.groupby(['cantThreads', 'algorithm']).agg({'time':['mean','std']}).reset_index()\n",
    "    return result"
   ]
  },
  {
   "cell_type": "code",
   "execution_count": 13,
   "metadata": {
    "scrolled": true
   },
   "outputs": [
    {
     "name": "stderr",
     "output_type": "stream",
     "text": [
      "100%|███████████████████████████████████████████████████████████████████████████████████████████████████████████████████████████████████████████████████████████████████████████████| 10/10 [01:24<00:00,  8.47s/it]\n"
     ]
    },
    {
     "data": {
      "image/png": "[encoded data removed]",
      "text/plain": [
       "<Figure size 432x288 with 1 Axes>"
      ]
     },
     "metadata": {
      "needs_background": "light"
     },
     "output_type": "display_data"
    }
   ],
   "source": [
    "dfMultRand = correrExpMult('./data/incrementalRand/', './results/uniformeMultiplesArchivosRand.csv')\n",
    "timeMultRand, stdMultRand, cantThreadsMultRand = parseData(dfMultRand, 'cargarMultiplesArchivos')\n",
    "\n",
    "# grafico\n",
    "plt.scatter(cantThreadsMultRand, timeMultRand)\n",
    "plt.errorbar(cantThreadsMultRand,timeMultRand, yerr = stdMultRand, fmt=\"o\")\n",
    "plt.xlabel('threads')\n",
    "plt.ylabel('time (ms)')\n",
    "plt.title('Distribucion Uniforme Randomizada')\n",
    "\n",
    "##para guardar img\n",
    "imgPath=\"./img/cma-uniforme-rand\"\n",
    "plt.savefig(imgPath)\n",
    "\n",
    "plt.show()"
   ]
  },
  {
   "cell_type": "code",
   "execution_count": 14,
   "metadata": {},
   "outputs": [
    {
     "name": "stderr",
     "output_type": "stream",
     "text": [
      "100%|███████████████████████████████████████████████████████████████████████████████████████████████████████████████████████████████████████████████████████████████████████████████| 10/10 [01:19<00:00,  7.98s/it]\n"
     ]
    },
    {
     "data": {
      "image/png": "[encoded data removed]",
      "text/plain": [
       "<Figure size 432x288 with 1 Axes>"
      ]
     },
     "metadata": {
      "needs_background": "light"
     },
     "output_type": "display_data"
    }
   ],
   "source": [
    "dfMultSort = correrExpMult('./data/incremental/', './results/uniformeMultiplesArchivosSort.csv')\n",
    "timeMultSort, stdMultSort, cantThreadsMultSort = parseData(dfMultSort, 'cargarMultiplesArchivos')\n",
    "\n",
    "# grafico\n",
    "plt.scatter(cantThreadsMultSort, timeMultSort)\n",
    "plt.errorbar(cantThreadsMultSort,timeMultSort, yerr = stdMultSort, fmt=\"o\")\n",
    "plt.xlabel('threads')\n",
    "plt.ylabel('time (ms)')\n",
    "plt.title('Distribucion Uniforme Ordenada')\n",
    "\n",
    "##para guardar img\n",
    "imgPath=\"./img/cma-uniforme-sort\"\n",
    "plt.savefig(imgPath)\n",
    "\n",
    "plt.show()"
   ]
  },
  {
   "cell_type": "code",
   "execution_count": 15,
   "metadata": {},
   "outputs": [
    {
     "data": {
      "image/png": "[encoded data removed]",
      "text/plain": [
       "<Figure size 432x288 with 1 Axes>"
      ]
     },
     "metadata": {
      "needs_background": "light"
     },
     "output_type": "display_data"
    }
   ],
   "source": [
    "plt.scatter(cantThreadsMultRand, timeMultRand, label = 'Rand')\n",
    "plt.errorbar(cantThreadsMultRand,timeMultRand, yerr = stdMultRand, fmt=\"o\")\n",
    "\n",
    "plt.scatter(cantThreadsMultSort, timeMultSort, label = 'Sort')\n",
    "plt.errorbar(cantThreadsMultSort,timeMultSort, yerr = stdMultSort, fmt=\"o\")\n",
    "\n",
    "plt.legend(loc = \"upper right\")\n",
    "plt.xlabel('threads')\n",
    "plt.ylabel('time (ms)')\n",
    "plt.title('Comparacion Distribucion Uniforme Sort y Rand')\n",
    "\n",
    "##para guardar img\n",
    "imgPath=\"./img/cma-comparison\"\n",
    "plt.savefig(imgPath)\n",
    "\n",
    "plt.show()"
   ]
  },
  {
   "cell_type": "code",
   "execution_count": null,
   "metadata": {},
   "outputs": [],
   "source": []
  }
 ],
 "metadata": {
  "kernelspec": {
   "display_name": "Python 3 (ipykernel)",
   "language": "python",
   "name": "python3"
  },
  "language_info": {
   "codemirror_mode": {
    "name": "ipython",
    "version": 3
   },
   "file_extension": ".py",
   "mimetype": "text/x-python",
   "name": "python",
   "nbconvert_exporter": "python",
   "pygments_lexer": "ipython3",
   "version": "3.10.4"
  }
 },
 "nbformat": 4,
 "nbformat_minor": 4
}
