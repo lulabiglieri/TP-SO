{
 "cells": [
  {
   "cell_type": "markdown",
   "metadata": {},
   "source": [
    "# Experimentacion"
   ]
  },
  {
   "cell_type": "code",
   "execution_count": 69,
   "metadata": {},
   "outputs": [],
   "source": [
    "import numpy as np\n",
    "import pandas as pd\n",
    "import seaborn as sns\n",
    "import subprocess\n",
    "import matplotlib.pyplot as plt\n",
    "import glob, os\n",
    "import math\n",
    "import random\n",
    "from subprocess import Popen, PIPE\n",
    "from tqdm import tqdm"
   ]
  },
  {
   "cell_type": "code",
   "execution_count": 65,
   "metadata": {},
   "outputs": [],
   "source": [
    "NS_PER_SECOND = 1000000000\n",
    "\n",
    "def getTime(s, ns):\n",
    "    if (s > 0 and ns < 0):\n",
    "        ns += NS_PER_SECOND\n",
    "        s=s-1\n",
    "    elif (s < 0 and ns > 0):\n",
    "        ns -= NS_PER_SECOND\n",
    "        s=s+1\n",
    "\n",
    "    ms = ns / 1000000\n",
    "    ms += s * 1000\n",
    "    return ms"
   ]
  },
  {
   "cell_type": "code",
   "execution_count": 66,
   "metadata": {},
   "outputs": [
    {
     "name": "stdout",
     "output_type": "stream",
     "text": [
      "./../codigo/build/ContarPalabras\n"
     ]
    }
   ],
   "source": [
    "executablePath = './../codigo/build/ContarPalabras'\n",
    "os.chdir(\"./\")\n",
    "print(executablePath)"
   ]
  },
  {
   "cell_type": "markdown",
   "metadata": {},
   "source": [
    "### Multithreading en maximo paralelo con distribucion uniforme"
   ]
  },
  {
   "cell_type": "code",
   "execution_count": 115,
   "metadata": {},
   "outputs": [
    {
     "name": "stderr",
     "output_type": "stream",
     "text": [
      "100%|██████████| 20/20 [00:08<00:00,  2.27it/s]"
     ]
    },
    {
     "name": "stdout",
     "output_type": "stream",
     "text": [
      "   cantThreads                algorithm       time          \n",
      "                                              mean       std\n",
      "0            1  cargarMultiplesArchivos  27.797847  1.766969\n",
      "1            1           maximoParalelo   0.245198  0.036610\n",
      "2            2  cargarMultiplesArchivos  27.078863  1.193814\n",
      "3            2           maximoParalelo   0.158955  0.015842\n",
      "4            3  cargarMultiplesArchivos  26.624265  1.611406\n",
      "5            3           maximoParalelo   0.144632  0.017168\n",
      "6            4  cargarMultiplesArchivos  26.467278  1.274131\n",
      "7            4           maximoParalelo   0.167152  0.066154\n",
      "8            5  cargarMultiplesArchivos  26.597397  1.471479\n",
      "9            5           maximoParalelo   0.200789  0.069207\n",
      "10           6  cargarMultiplesArchivos  26.716212  1.246723\n",
      "11           6           maximoParalelo   0.214366  0.044290\n",
      "12           7  cargarMultiplesArchivos  27.348340  1.832992\n",
      "13           7           maximoParalelo   0.267090  0.108538\n",
      "14           8  cargarMultiplesArchivos  27.161771  1.563539\n",
      "15           8           maximoParalelo   0.275249  0.104353\n",
      "16          10  cargarMultiplesArchivos  27.505369  1.861886\n",
      "17          10           maximoParalelo   0.321626  0.076997\n",
      "18          15  cargarMultiplesArchivos  27.204012  1.639883\n",
      "19          15           maximoParalelo   0.436960  0.078219\n",
      "20          20  cargarMultiplesArchivos  27.248321  1.721092\n",
      "21          20           maximoParalelo   0.569762  0.077384\n",
      "22          26  cargarMultiplesArchivos  27.246815  1.633971\n",
      "23          26           maximoParalelo   0.715765  0.073878\n"
     ]
    },
    {
     "name": "stderr",
     "output_type": "stream",
     "text": [
      "\n"
     ]
    }
   ],
   "source": [
    "threads = [1,2,3,4,5,6,7,8,10,15,20,26]\n",
    "columns = ['cantThreads', 'sec', 'ns', 'algorithm']\n",
    "\n",
    "df = pd.DataFrame(columns = columns)\n",
    "dataframes = []\n",
    "\n",
    "for repeat in tqdm(range(20)):\n",
    "    #create output file\n",
    "    result = './results/uniforme.csv'\n",
    "    outputFile = open(result, 'w+')\n",
    "    outputFile.write(\"cantThreads,sec,ns,algorithm\\n\")\n",
    "    \n",
    "    args = \"./data/uniforme.txt\"\n",
    "    \n",
    "    for cantThreads in threads:\n",
    "        command = executablePath + \" %s %s %s\" % (cantThreads, cantThreads, args)\n",
    "        p = subprocess.Popen(command, shell=True, stdout=subprocess.PIPE)\n",
    "        p.wait()\n",
    "        \n",
    "        output=p.stdout.read().decode(\"utf-8\")\n",
    "        outputFile.write(output)\n",
    "    \n",
    "    outputFile.close()\n",
    "    \n",
    "    df = pd.read_csv(result, header=[0])\n",
    "    dataframes.append(df)\n",
    "    \n",
    "dfExp = pd.concat(dataframes)\n",
    "dfExp['time'] = dfExp.apply(lambda row : getTime(row['sec'],row['ns']), axis = 1)\n",
    "dfExp = dfExp.drop(['sec', 'ns'], axis = 1)\n",
    "result = dfExp.groupby(['cantThreads', 'algorithm']).agg({'time':['mean','std']}).reset_index()\n",
    "print(result)"
   ]
  },
  {
   "cell_type": "code",
   "execution_count": 118,
   "metadata": {},
   "outputs": [
    {
     "data": {
      "image/png": "[encoded data removed]",
      "text/plain": [
       "<Figure size 432x288 with 1 Axes>"
      ]
     },
     "metadata": {
      "needs_background": "light"
     },
     "output_type": "display_data"
    }
   ],
   "source": [
    "resultMaxParalelo = result\n",
    "resultMaxParalelo = resultMaxParalelo.loc[resultMaxParalelo['algorithm'] == 'maximoParalelo']\n",
    "time = resultMaxParalelo['time']['mean'].values.tolist()\n",
    "std = resultMaxParalelo['time']['std'].values.tolist()\n",
    "cantThreads = resultMaxParalelo['cantThreads'].values.tolist()\n",
    "\n",
    "plt.scatter(cantThreads, time)\n",
    "plt.errorbar(cantThreads,time, yerr = std, fmt=\"o\")\n",
    "plt.xlabel('threads')\n",
    "plt.ylabel('time (ms)')\n",
    "plt.show()"
   ]
  },
  {
   "cell_type": "markdown",
   "metadata": {},
   "source": [
    "### Multithreading en cargar multiples archivos"
   ]
  },
  {
   "cell_type": "code",
   "execution_count": 70,
   "metadata": {},
   "outputs": [
    {
     "name": "stderr",
     "output_type": "stream",
     "text": [
      "100%|██████████| 10/10 [01:01<00:00,  6.13s/it]"
     ]
    },
    {
     "name": "stdout",
     "output_type": "stream",
     "text": [
      "    cantThreads  sec        ns                algorithm\n",
      "0             1    0  20434152  cargarMultiplesArchivos\n",
      "1             1    0    187774           maximoParalelo\n",
      "2             2    0   9112952  cargarMultiplesArchivos\n",
      "3             2    0    132043           maximoParalelo\n",
      "4             3    0   9271430  cargarMultiplesArchivos\n",
      "..          ...  ...       ...                      ...\n",
      "19           15    0    361041           maximoParalelo\n",
      "20           20    0   8667107  cargarMultiplesArchivos\n",
      "21           20    0    522608           maximoParalelo\n",
      "22           26    0   7503027  cargarMultiplesArchivos\n",
      "23           26    0    662136           maximoParalelo\n",
      "\n",
      "[7200 rows x 4 columns]\n"
     ]
    },
    {
     "name": "stderr",
     "output_type": "stream",
     "text": [
      "\n"
     ]
    }
   ],
   "source": [
    "threads = [1,2,3,4,5,6,7,8,10,15,20,26]\n",
    "columns = ['cantThreads', 'sec', 'ns', 'algorithm']\n",
    "\n",
    "df = pd.DataFrame(columns = columns)\n",
    "dataframes = []\n",
    "datasetsDir=\"./data/incremental/\"\n",
    "\n",
    "for repeat in tqdm(range(20)):\n",
    "    for dataset in os.listdir(datasetsDir):\n",
    "        #create output file\n",
    "        result = './results/uniformeMultiplesArchivos.csv'\n",
    "        outputFile = open(result, 'w+')\n",
    "        outputFile.write(\"cantThreads,sec,ns,algorithm\\n\")\n",
    "\n",
    "        args = \"\"\n",
    "        for file in os.listdir(datasetsDir):\n",
    "            args += \" \" + datasetsDir + file\n",
    "\n",
    "        #print (args)\n",
    "        for cantThreads in threads:\n",
    "            command = executablePath + \" %s %s %s\" % (cantThreads, cantThreads, args)\n",
    "            p = subprocess.Popen(command, shell=True, stdout=subprocess.PIPE)\n",
    "            p.wait()\n",
    "\n",
    "            output=p.stdout.read().decode(\"utf-8\")\n",
    "            outputFile.write(output)\n",
    "\n",
    "        outputFile.close()\n",
    "\n",
    "        df = pd.read_csv(result, header=[0])\n",
    "        dataframes.append(df)\n",
    "    \n",
    "dfExp2 = pd.concat(dataframes)\n",
    "print(dfExp2)"
   ]
  },
  {
   "cell_type": "code",
   "execution_count": 71,
   "metadata": {},
   "outputs": [
    {
     "name": "stdout",
     "output_type": "stream",
     "text": [
      "   cantThreads                algorithm       time          \n",
      "                                              mean       std\n",
      "0            1  cargarMultiplesArchivos  16.833824  1.658195\n",
      "1            1           maximoParalelo   0.240057  0.049570\n",
      "2            2  cargarMultiplesArchivos   8.695517  0.964390\n",
      "3            2           maximoParalelo   0.125352  0.037961\n",
      "4            3  cargarMultiplesArchivos   8.992807  1.074367\n",
      "5            3           maximoParalelo   0.114500  0.013827\n",
      "6            4  cargarMultiplesArchivos   7.110551  0.963871\n",
      "7            4           maximoParalelo   0.121321  0.013722\n",
      "8            5  cargarMultiplesArchivos   7.141904  0.574910\n",
      "9            5           maximoParalelo   0.152892  0.035357\n",
      "10           6  cargarMultiplesArchivos   7.194901  0.566958\n",
      "11           6           maximoParalelo   0.197951  0.128104\n",
      "12           7  cargarMultiplesArchivos   7.294737  1.070517\n",
      "13           7           maximoParalelo   0.223102  0.187599\n",
      "14           8  cargarMultiplesArchivos   7.352414  0.826617\n",
      "15           8           maximoParalelo   0.222621  0.058421\n",
      "16          10  cargarMultiplesArchivos   7.392908  0.753788\n",
      "17          10           maximoParalelo   0.290246  0.164578\n",
      "18          15  cargarMultiplesArchivos   7.692336  0.942775\n",
      "19          15           maximoParalelo   0.411766  0.290935\n",
      "20          20  cargarMultiplesArchivos   8.061640  1.332462\n",
      "21          20           maximoParalelo   0.515547  0.216581\n",
      "22          26  cargarMultiplesArchivos   8.287104  1.483184\n",
      "23          26           maximoParalelo   0.672569  0.212457\n"
     ]
    }
   ],
   "source": [
    "dfExp2['time'] = dfExp2.apply(lambda row : getTime(row['sec'],row['ns']), axis = 1)\n",
    "dfExp2 = dfExp2.drop(['sec', 'ns'], axis = 1)\n",
    "result2 = dfExp2.groupby(['cantThreads', 'algorithm']).agg({'time':['mean','std']}).reset_index()\n",
    "print(result2)"
   ]
  },
  {
   "cell_type": "code",
   "execution_count": 72,
   "metadata": {},
   "outputs": [
    {
     "data": {
      "image/png": "[encoded data removed]",
      "text/plain": [
       "<Figure size 432x288 with 1 Axes>"
      ]
     },
     "metadata": {
      "needs_background": "light"
     },
     "output_type": "display_data"
    }
   ],
   "source": [
    "resultMultiArc = result2\n",
    "resultMultiArc = resultMultiArc.loc[resultMultiArc['algorithm'] == 'cargarMultiplesArchivos']\n",
    "time = resultMultiArc['time']['mean'].values.tolist()\n",
    "std = resultMultiArc['time']['std'].values.tolist()\n",
    "cantThreads = resultMultiArc['cantThreads'].values.tolist()\n",
    "\n",
    "plt.scatter(cantThreads, time)\n",
    "plt.errorbar(cantThreads,time, yerr = std, fmt=\"o\")\n",
    "plt.xlabel('threads')\n",
    "plt.ylabel('time (ms)')\n",
    "plt.show()"
   ]
  },
  {
   "cell_type": "markdown",
   "metadata": {},
   "source": [
    "### Multithreading de maximo paralelo con distinta distribucion"
   ]
  },
  {
   "cell_type": "code",
   "execution_count": 114,
   "metadata": {},
   "outputs": [
    {
     "name": "stdout",
     "output_type": "stream",
     "text": [
      "   cantThreads                algorithm       time          \n",
      "                                              mean       std\n",
      "0            1  cargarMultiplesArchivos  34.051268  2.688087\n",
      "1            1           maximoParalelo   0.250940  0.043086\n",
      "2            2  cargarMultiplesArchivos  34.090511  2.437342\n",
      "3            2           maximoParalelo   0.180105  0.042979\n",
      "4            3  cargarMultiplesArchivos  33.132230  2.194088\n",
      "5            3           maximoParalelo   0.150428  0.020050\n",
      "6            4  cargarMultiplesArchivos  32.641463  2.008951\n",
      "7            4           maximoParalelo   0.170410  0.032650\n",
      "8            5  cargarMultiplesArchivos  32.578325  1.767811\n",
      "9            5           maximoParalelo   0.218507  0.048323\n",
      "10           6  cargarMultiplesArchivos  32.734801  2.333466\n",
      "11           6           maximoParalelo   0.231495  0.044125\n",
      "12           7  cargarMultiplesArchivos  32.561327  1.959231\n",
      "13           7           maximoParalelo   0.239053  0.038307\n",
      "14           8  cargarMultiplesArchivos  32.856050  2.216377\n",
      "15           8           maximoParalelo   0.310068  0.210614\n",
      "16          10  cargarMultiplesArchivos  33.022317  2.056882\n",
      "17          10           maximoParalelo   0.327170  0.064044\n",
      "18          15  cargarMultiplesArchivos  33.879617  4.112070\n",
      "19          15           maximoParalelo   0.547458  0.427015\n",
      "20          20  cargarMultiplesArchivos  33.340710  2.518235\n",
      "21          20           maximoParalelo   0.617548  0.128744\n",
      "22          26  cargarMultiplesArchivos  34.069685  3.574872\n",
      "23          26           maximoParalelo   0.850404  0.416901\n"
     ]
    }
   ],
   "source": [
    "threads = [1,2,3,4,5,6,7,8,10,15,20,26]\n",
    "columns = ['cantThreads', 'sec', 'ns', 'algorithm']\n",
    "\n",
    "df = pd.DataFrame(columns = columns)\n",
    "dataframes = []\n",
    "\n",
    "for repeat in range(20):\n",
    "    #create output file\n",
    "    result = './results/normal.csv'\n",
    "    outputFile = open(result, 'w+')\n",
    "    outputFile.write(\"cantThreads,sec,ns,algorithm\\n\")\n",
    "    \n",
    "    args = \"./data/normal.txt\"\n",
    "    \n",
    "    for cantThreads in threads:\n",
    "        command = executablePath + \" %s %s %s\" % (cantThreads, cantThreads, args)\n",
    "        p = subprocess.Popen(command, shell=True, stdout=subprocess.PIPE)\n",
    "        p.wait()\n",
    "        \n",
    "        output=p.stdout.read().decode(\"utf-8\")\n",
    "        outputFile.write(output)\n",
    "    \n",
    "    outputFile.close()\n",
    "    \n",
    "    df = pd.read_csv(result, header=[0])\n",
    "    dataframes.append(df)\n",
    "    \n",
    "dfExpNorm = pd.concat(dataframes)\n",
    "dfExpNorm['time'] = dfExpNorm.apply(lambda row : getTime(row['sec'],row['ns']), axis = 1)\n",
    "dfExpNorm = dfExpNorm.drop(['sec', 'ns'], axis = 1)\n",
    "resultNorm = dfExpNorm.groupby(['cantThreads', 'algorithm']).agg({'time':['mean','std']}).reset_index()\n",
    "print(resultNorm)"
   ]
  },
  {
   "cell_type": "code",
   "execution_count": 112,
   "metadata": {},
   "outputs": [
    {
     "name": "stdout",
     "output_type": "stream",
     "text": [
      "   cantThreads                algorithm       time          \n",
      "                                              mean       std\n",
      "0            1  cargarMultiplesArchivos  41.837045  1.894980\n",
      "1            1           maximoParalelo   0.274395  0.048266\n",
      "2            2  cargarMultiplesArchivos  42.100763  3.078073\n",
      "3            2           maximoParalelo   0.159392  0.027240\n",
      "4            3  cargarMultiplesArchivos  42.377549  4.678217\n",
      "5            3           maximoParalelo   0.160451  0.015868\n",
      "6            4  cargarMultiplesArchivos  41.735775  2.530445\n",
      "7            4           maximoParalelo   0.184201  0.038879\n",
      "8            5  cargarMultiplesArchivos  41.141984  2.008087\n",
      "9            5           maximoParalelo   0.230349  0.073864\n",
      "10           6  cargarMultiplesArchivos  41.094835  1.657565\n",
      "11           6           maximoParalelo   0.328872  0.306288\n",
      "12           7  cargarMultiplesArchivos  41.428439  1.843421\n",
      "13           7           maximoParalelo   0.233868  0.033695\n",
      "14           8  cargarMultiplesArchivos  42.398591  3.534897\n",
      "15           8           maximoParalelo   0.266135  0.050273\n",
      "16          10  cargarMultiplesArchivos  41.775215  2.587977\n",
      "17          10           maximoParalelo   0.312589  0.050849\n",
      "18          15  cargarMultiplesArchivos  42.055821  2.127855\n",
      "19          15           maximoParalelo   0.442514  0.054441\n",
      "20          20  cargarMultiplesArchivos  41.947832  1.609717\n",
      "21          20           maximoParalelo   0.554749  0.052329\n",
      "22          26  cargarMultiplesArchivos  42.434771  1.682434\n",
      "23          26           maximoParalelo   0.918200  0.635435\n"
     ]
    }
   ],
   "source": [
    "threads = [1,2,3,4,5,6,7,8,10,15,20,26]\n",
    "columns = ['cantThreads', 'sec', 'ns', 'algorithm']\n",
    "\n",
    "df = pd.DataFrame(columns = columns)\n",
    "dataframes = []\n",
    "\n",
    "for repeat in range(20):\n",
    "    #create output file\n",
    "    result = './results/bernoulli.csv'\n",
    "    outputFile = open(result, 'w+')\n",
    "    outputFile.write(\"cantThreads,sec,ns,algorithm\\n\")\n",
    "    \n",
    "    args = \"./data/bernoulli.txt\"\n",
    "    \n",
    "    for cantThreads in threads:\n",
    "        command = executablePath + \" %s %s %s\" % (cantThreads, cantThreads, args)\n",
    "        p = subprocess.Popen(command, shell=True, stdout=subprocess.PIPE)\n",
    "        p.wait()\n",
    "        \n",
    "        output=p.stdout.read().decode(\"utf-8\")\n",
    "        outputFile.write(output)\n",
    "    \n",
    "    outputFile.close()\n",
    "    \n",
    "    df = pd.read_csv(result, header=[0])\n",
    "    dataframes.append(df)\n",
    "    \n",
    "dfExpBer = pd.concat(dataframes)\n",
    "dfExpBer['time'] = dfExpBer.apply(lambda row : getTime(row['sec'],row['ns']), axis = 1)\n",
    "dfExpBer = dfExpBer.drop(['sec', 'ns'], axis = 1)\n",
    "resultBer = dfExpBer.groupby(['cantThreads', 'algorithm']).agg({'time':['mean','std']}).reset_index()\n",
    "print(resultBer)"
   ]
  },
  {
   "cell_type": "code",
   "execution_count": 119,
   "metadata": {},
   "outputs": [
    {
     "data": {
      "image/png": "[encoded data removed]",
      "text/plain": [
       "<Figure size 432x288 with 1 Axes>"
      ]
     },
     "metadata": {
      "needs_background": "light"
     },
     "output_type": "display_data"
    }
   ],
   "source": [
    "resultMaxParaleloBer = resultBer\n",
    "resultMaxParaleloBer = resultMaxParaleloBer.loc[resultMaxParaleloBer['algorithm'] == 'maximoParalelo']\n",
    "timeBer = resultMaxParaleloBer['time']['mean'].values.tolist()\n",
    "stdBer = resultMaxParaleloBer['time']['std'].values.tolist()\n",
    "cantThreadsBer = resultMaxParaleloBer['cantThreads'].values.tolist()\n",
    "\n",
    "resultMaxParaleloNormal = resultNorm\n",
    "resultMaxParaleloNormal = resultMaxParaleloNormal.loc[resultMaxParaleloNormal['algorithm'] == 'maximoParalelo']\n",
    "timeNorm = resultMaxParaleloNormal['time']['mean'].values.tolist()\n",
    "stdNorm = resultMaxParaleloNormal['time']['std'].values.tolist()\n",
    "cantThreadsNorm = resultMaxParaleloNormal['cantThreads'].values.tolist()\n",
    "\n",
    "plt.scatter(cantThreadsBer, timeBer, label = \"bernoulli\")\n",
    "plt.errorbar(cantThreadsBer,timeBer, yerr = stdBer, fmt=\"o\")\n",
    "\n",
    "plt.scatter(cantThreadsNorm, timeNorm, label = \"normal\")\n",
    "plt.errorbar(cantThreadsNorm,timeNorm, yerr = stdNorm, fmt=\"o\")\n",
    "\n",
    "plt.scatter(cantThreads, time, label = \"uniforme\")\n",
    "plt.errorbar(cantThreads,time, yerr = std, fmt=\"o\")\n",
    "\n",
    "plt.legend(loc = \"upper left\")\n",
    "plt.xlabel('threads')\n",
    "plt.ylabel('time (ms)')\n",
    "plt.show()"
   ]
  },
  {
   "cell_type": "code",
   "execution_count": 90,
   "metadata": {},
   "outputs": [
    {
     "name": "stdout",
     "output_type": "stream",
     "text": [
      "26\n"
     ]
    }
   ],
   "source": [
    "print(cantThreads)"
   ]
  },
  {
   "cell_type": "code",
   "execution_count": null,
   "metadata": {},
   "outputs": [],
   "source": []
  }
 ],
 "metadata": {
  "kernelspec": {
   "display_name": "Python 3",
   "language": "python",
   "name": "python3"
  },
  "language_info": {
   "codemirror_mode": {
    "name": "ipython",
    "version": 3
   },
   "file_extension": ".py",
   "mimetype": "text/x-python",
   "name": "python",
   "nbconvert_exporter": "python",
   "pygments_lexer": "ipython3",
   "version": "3.8.10"
  }
 },
 "nbformat": 4,
 "nbformat_minor": 4
}
