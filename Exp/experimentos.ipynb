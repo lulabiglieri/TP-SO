{
 "cells": [
  {
   "cell_type": "markdown",
   "metadata": {},
   "source": [
    "# Experimentacion"
   ]
  },
  {
   "cell_type": "code",
   "execution_count": 69,
   "metadata": {},
   "outputs": [],
   "source": [
    "import numpy as np\n",
    "import pandas as pd\n",
    "import seaborn as sns\n",
    "import subprocess\n",
    "import matplotlib.pyplot as plt\n",
    "import glob, os\n",
    "import math\n",
    "import random\n",
    "from subprocess import Popen, PIPE\n",
    "from tqdm import tqdm"
   ]
  },
  {
   "cell_type": "code",
   "execution_count": 65,
   "metadata": {},
   "outputs": [],
   "source": [
    "NS_PER_SECOND = 1000000000\n",
    "\n",
    "def getTime(s, ns):\n",
    "    if (s > 0 and ns < 0):\n",
    "        ns += NS_PER_SECOND\n",
    "        s=s-1\n",
    "    elif (s < 0 and ns > 0):\n",
    "        ns -= NS_PER_SECOND\n",
    "        s=s+1\n",
    "\n",
    "    ms = ns / 1000000\n",
    "    ms += s * 1000\n",
    "    return ms"
   ]
  },
  {
   "cell_type": "code",
   "execution_count": 66,
   "metadata": {},
   "outputs": [
    {
     "name": "stdout",
     "output_type": "stream",
     "text": [
      "./../codigo/build/ContarPalabras\n"
     ]
    }
   ],
   "source": [
    "executablePath = './../codigo/build/ContarPalabras'\n",
    "os.chdir(\"./\")\n",
    "print(executablePath)"
   ]
  },
  {
   "cell_type": "markdown",
   "metadata": {},
   "source": [
    "### Multithreading en maximo paralelo con distribucion uniforme"
   ]
  },
  {
   "cell_type": "code",
   "execution_count": 21,
   "metadata": {},
   "outputs": [
    {
     "name": "stdout",
     "output_type": "stream",
     "text": [
      "   cantThreads                algorithm        time           \n",
      "                                               mean        std\n",
      "0            1  cargarMultiplesArchivos  208.918053   2.711307\n",
      "1            1           maximoParalelo    0.547482   0.025604\n",
      "2            2  cargarMultiplesArchivos  211.497786   6.657803\n",
      "3            2           maximoParalelo    0.335346   0.042721\n",
      "4            3  cargarMultiplesArchivos  212.325412  13.198574\n",
      "5            3           maximoParalelo    0.292312   0.010748\n",
      "6            4  cargarMultiplesArchivos  209.108876   4.782903\n",
      "7            4           maximoParalelo    0.290922   0.029952\n",
      "8            5  cargarMultiplesArchivos  210.965369   8.777913\n",
      "9            5           maximoParalelo    0.311504   0.020249\n",
      "10           6  cargarMultiplesArchivos  213.748690  14.112363\n",
      "11           6           maximoParalelo    0.334900   0.012810\n",
      "12           7  cargarMultiplesArchivos  212.959242  12.564638\n",
      "13           7           maximoParalelo    0.344830   0.011236\n",
      "14           8  cargarMultiplesArchivos  209.787513   5.497248\n",
      "15           8           maximoParalelo    0.385775   0.041382\n",
      "16          10  cargarMultiplesArchivos  208.719791   1.286401\n",
      "17          10           maximoParalelo    0.410176   0.033160\n",
      "18          15  cargarMultiplesArchivos  207.689852   0.613552\n",
      "19          15           maximoParalelo    0.506818   0.025296\n",
      "20          20  cargarMultiplesArchivos  207.674366   1.257039\n",
      "21          20           maximoParalelo    0.680473   0.065950\n",
      "22          26  cargarMultiplesArchivos  207.864701   1.146491\n",
      "23          26           maximoParalelo    0.907394   0.087479\n"
     ]
    }
   ],
   "source": [
    "threads = [1,2,3,4,5,6,7,8,10,15,20,26]\n",
    "columns = ['cantThreads', 'sec', 'ns', 'algorithm']\n",
    "\n",
    "df = pd.DataFrame(columns = columns)\n",
    "dataframes = []\n",
    "\n",
    "for repeat in range(10):\n",
    "    #create output file\n",
    "    result = './results/uniforme.csv'\n",
    "    outputFile = open(result, 'w+')\n",
    "    outputFile.write(\"cantThreads,sec,ns,algorithm\\n\")\n",
    "    \n",
    "    args = \"./data/uniforme.txt\"\n",
    "    \n",
    "    for cantThreads in threads:\n",
    "        command = executablePath + \" %s %s %s\" % (cantThreads, cantThreads, args)\n",
    "        p = subprocess.Popen(command, shell=True, stdout=subprocess.PIPE)\n",
    "        p.wait()\n",
    "        \n",
    "        output=p.stdout.read().decode(\"utf-8\")\n",
    "        outputFile.write(output)\n",
    "    \n",
    "    outputFile.close()\n",
    "    \n",
    "    df = pd.read_csv(result, header=[0])\n",
    "    dataframes.append(df)\n",
    "    \n",
    "dfExp = pd.concat(dataframes)\n",
    "dfExp['time'] = dfExp.apply(lambda row : getTime(row['sec'],row['ns']), axis = 1)\n",
    "dfExp = dfExp.drop(['sec', 'ns'], axis = 1)\n",
    "result = dfExp.groupby(['cantThreads', 'algorithm']).agg({'time':['mean','std']}).reset_index()\n",
    "print(result)"
   ]
  },
  {
   "cell_type": "code",
   "execution_count": 45,
   "metadata": {},
   "outputs": [
    {
     "data": {
      "image/png": "[encoded data removed]",
      "text/plain": [
       "<Figure size 432x288 with 1 Axes>"
      ]
     },
     "metadata": {
      "needs_background": "light"
     },
     "output_type": "display_data"
    }
   ],
   "source": [
    "resultMaxParalelo = result\n",
    "resultMaxParalelo = resultMaxParalelo.loc[resultMaxParalelo['algorithm'] == 'maximoParalelo']\n",
    "time = resultMaxParalelo['time']['mean'].values.tolist()\n",
    "std = resultMaxParalelo['time']['std'].values.tolist()\n",
    "cantThreads = resultMaxParalelo['cantThreads'].values.tolist()\n",
    "\n",
    "plt.scatter(cantThreads, time)\n",
    "plt.errorbar(cantThreads,time, yerr = std, fmt=\"o\")\n",
    "plt.xlabel('threads')\n",
    "plt.ylabel('time (ms)')\n",
    "plt.show()"
   ]
  },
  {
   "cell_type": "markdown",
   "metadata": {},
   "source": [
    "### Multithreading en cargar multiples archivos"
   ]
  },
  {
   "cell_type": "code",
   "execution_count": null,
   "metadata": {},
   "outputs": [
    {
     "name": "stderr",
     "output_type": "stream",
     "text": [
      " 80%|████████  | 8/10 [00:49<00:12,  6.10s/it]"
     ]
    }
   ],
   "source": [
    "threads = [1,2,3,4,5,6,7,8,10,15,20,26]\n",
    "columns = ['cantThreads', 'sec', 'ns', 'algorithm']\n",
    "\n",
    "df = pd.DataFrame(columns = columns)\n",
    "dataframes = []\n",
    "datasetsDir=\"./data/incremental/\"\n",
    "\n",
    "for repeat in tqdm(range(10)):\n",
    "    for dataset in os.listdir(datasetsDir):\n",
    "        #create output file\n",
    "        result = './results/uniformeMultiplesArchivos.csv'\n",
    "        outputFile = open(result, 'w+')\n",
    "        outputFile.write(\"cantThreads,sec,ns,algorithm\\n\")\n",
    "\n",
    "        args = \"\"\n",
    "        for file in os.listdir(datasetsDir):\n",
    "            args += \" \" + datasetsDir + file\n",
    "\n",
    "        #print (args)\n",
    "        for cantThreads in threads:\n",
    "            command = executablePath + \" %s %s %s\" % (cantThreads, cantThreads, args)\n",
    "            p = subprocess.Popen(command, shell=True, stdout=subprocess.PIPE)\n",
    "            p.wait()\n",
    "\n",
    "            output=p.stdout.read().decode(\"utf-8\")\n",
    "            outputFile.write(output)\n",
    "\n",
    "        outputFile.close()\n",
    "\n",
    "        df = pd.read_csv(result, header=[0])\n",
    "        dataframes.append(df)\n",
    "    \n",
    "dfExp2 = pd.concat(dataframes)\n",
    "print(dfExp2)"
   ]
  },
  {
   "cell_type": "code",
   "execution_count": null,
   "metadata": {},
   "outputs": [],
   "source": [
    "dfExp2['time'] = dfExp2.apply(lambda row : getTime(row['sec'],row['ns']), axis = 1)\n",
    "dfExp2 = dfExp2.drop(['sec', 'ns'], axis = 1)\n",
    "result2 = dfExp2.groupby(['cantThreads', 'algorithm']).agg({'time':['mean','std']}).reset_index()\n",
    "print(result2)"
   ]
  },
  {
   "cell_type": "code",
   "execution_count": null,
   "metadata": {},
   "outputs": [],
   "source": [
    "resultMultiArc = result2\n",
    "resultMultiArc = resultMultiArc.loc[resultMultiArc['algorithm'] == 'cargarMultiplesArchivos']\n",
    "time = resultMultiArc['time']['mean'].values.tolist()\n",
    "std = resultMultiArc['time']['std'].values.tolist()\n",
    "cantThreads = resultMultiArc['cantThreads'].values.tolist()\n",
    "\n",
    "plt.scatter(cantThreads, time)\n",
    "plt.errorbar(cantThreads,time, yerr = std, fmt=\"o\")\n",
    "plt.xlabel('threads')\n",
    "plt.ylabel('time (ms)')\n",
    "plt.show()"
   ]
  },
  {
   "cell_type": "code",
   "execution_count": null,
   "metadata": {},
   "outputs": [],
   "source": [
    "for file in os.listdir(datasetsDir):\n",
    "        args += \" \" + datasetsDir + file\n",
    "        print(args)\n",
    "        args = \"\"\n"
   ]
  },
  {
   "cell_type": "code",
   "execution_count": null,
   "metadata": {},
   "outputs": [],
   "source": []
  }
 ],
 "metadata": {
  "kernelspec": {
   "display_name": "Python 3",
   "language": "python",
   "name": "python3"
  },
  "language_info": {
   "codemirror_mode": {
    "name": "ipython",
    "version": 3
   },
   "file_extension": ".py",
   "mimetype": "text/x-python",
   "name": "python",
   "nbconvert_exporter": "python",
   "pygments_lexer": "ipython3",
   "version": "3.8.10"
  }
 },
 "nbformat": 4,
 "nbformat_minor": 4
}
