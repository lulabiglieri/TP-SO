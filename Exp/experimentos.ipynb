{
 "cells": [
  {
   "cell_type": "markdown",
   "metadata": {},
   "source": [
    "# Experimentacion"
   ]
  },
  {
   "cell_type": "code",
   "execution_count": 69,
   "metadata": {},
   "outputs": [],
   "source": [
    "import numpy as np\n",
    "import pandas as pd\n",
    "import seaborn as sns\n",
    "import subprocess\n",
    "import matplotlib.pyplot as plt\n",
    "import glob, os\n",
    "import math\n",
    "import random\n",
    "from subprocess import Popen, PIPE\n",
    "from tqdm import tqdm"
   ]
  },
  {
   "cell_type": "code",
   "execution_count": 65,
   "metadata": {},
   "outputs": [],
   "source": [
    "NS_PER_SECOND = 1000000000\n",
    "\n",
    "def getTime(s, ns):\n",
    "    if (s > 0 and ns < 0):\n",
    "        ns += NS_PER_SECOND\n",
    "        s=s-1\n",
    "    elif (s < 0 and ns > 0):\n",
    "        ns -= NS_PER_SECOND\n",
    "        s=s+1\n",
    "\n",
    "    ms = ns / 1000000\n",
    "    ms += s * 1000\n",
    "    return ms"
   ]
  },
  {
   "cell_type": "code",
   "execution_count": 66,
   "metadata": {},
   "outputs": [
    {
     "name": "stdout",
     "output_type": "stream",
     "text": [
      "./../codigo/build/ContarPalabras\n"
     ]
    }
   ],
   "source": [
    "executablePath = './../codigo/build/ContarPalabras'\n",
    "os.chdir(\"./\")\n",
    "print(executablePath)"
   ]
  },
  {
   "cell_type": "markdown",
   "metadata": {},
   "source": [
    "### Multithreading en maximo paralelo con distribucion uniforme"
   ]
  },
  {
   "cell_type": "code",
   "execution_count": 122,
   "metadata": {},
   "outputs": [
    {
     "name": "stderr",
     "output_type": "stream",
     "text": [
      "100%|██████████| 20/20 [00:09<00:00,  2.10it/s]"
     ]
    },
    {
     "name": "stdout",
     "output_type": "stream",
     "text": [
      "   cantThreads                algorithm       time          \n",
      "                                              mean       std\n",
      "0            1  cargarMultiplesArchivos  30.312091  2.469228\n",
      "1            1           maximoParalelo   0.271052  0.137247\n",
      "2            2  cargarMultiplesArchivos  29.423984  2.518140\n",
      "3            2           maximoParalelo   0.171167  0.019828\n",
      "4            3  cargarMultiplesArchivos  29.192090  1.898675\n",
      "5            3           maximoParalelo   0.171591  0.032326\n",
      "6            4  cargarMultiplesArchivos  28.781143  1.966003\n",
      "7            4           maximoParalelo   0.194324  0.087581\n",
      "8            5  cargarMultiplesArchivos  29.086311  2.171985\n",
      "9            5           maximoParalelo   0.309412  0.508249\n",
      "10           6  cargarMultiplesArchivos  29.868261  3.416761\n",
      "11           6           maximoParalelo   0.366653  0.401894\n",
      "12           7  cargarMultiplesArchivos  29.357346  3.149662\n",
      "13           7           maximoParalelo   0.336421  0.172488\n",
      "14           8  cargarMultiplesArchivos  29.899552  3.969860\n",
      "15           8           maximoParalelo   0.379476  0.366399\n",
      "16          10  cargarMultiplesArchivos  29.240172  2.119621\n",
      "17          10           maximoParalelo   0.387574  0.217140\n",
      "18          15  cargarMultiplesArchivos  30.194598  4.570938\n",
      "19          15           maximoParalelo   0.650837  0.865147\n",
      "20          20  cargarMultiplesArchivos  29.472911  3.316985\n",
      "21          20           maximoParalelo   0.632066  0.280368\n",
      "22          26  cargarMultiplesArchivos  29.250156  1.907121\n",
      "23          26           maximoParalelo   0.824680  0.350425\n"
     ]
    },
    {
     "name": "stderr",
     "output_type": "stream",
     "text": [
      "\n"
     ]
    }
   ],
   "source": [
    "threads = [1,2,3,4,5,6,7,8,10,15,20,26]\n",
    "columns = ['cantThreads', 'sec', 'ns', 'algorithm']\n",
    "\n",
    "df = pd.DataFrame(columns = columns)\n",
    "dataframes = []\n",
    "\n",
    "for repeat in tqdm(range(20)):\n",
    "    #create output file\n",
    "    result = './results/uniformeRandomized.csv'\n",
    "    outputFile = open(result, 'w+')\n",
    "    outputFile.write(\"cantThreads,sec,ns,algorithm\\n\")\n",
    "    \n",
    "    args = \"./data/uniformeRandomized.txt\"\n",
    "    \n",
    "    for cantThreads in threads:\n",
    "        command = executablePath + \" %s %s %s\" % (cantThreads, cantThreads, args)\n",
    "        p = subprocess.Popen(command, shell=True, stdout=subprocess.PIPE)\n",
    "        p.wait()\n",
    "        \n",
    "        output=p.stdout.read().decode(\"utf-8\")\n",
    "        outputFile.write(output)\n",
    "    \n",
    "    outputFile.close()\n",
    "    \n",
    "    df = pd.read_csv(result, header=[0])\n",
    "    dataframes.append(df)\n",
    "    \n",
    "dfExp = pd.concat(dataframes)\n",
    "dfExp['time'] = dfExp.apply(lambda row : getTime(row['sec'],row['ns']), axis = 1)\n",
    "dfExp = dfExp.drop(['sec', 'ns'], axis = 1)\n",
    "result = dfExp.groupby(['cantThreads', 'algorithm']).agg({'time':['mean','std']}).reset_index()\n",
    "print(result)"
   ]
  },
  {
   "cell_type": "code",
   "execution_count": 123,
   "metadata": {},
   "outputs": [
    {
     "data": {
      "image/png": "[encoded data removed]",
      "text/plain": [
       "<Figure size 432x288 with 1 Axes>"
      ]
     },
     "metadata": {
      "needs_background": "light"
     },
     "output_type": "display_data"
    }
   ],
   "source": [
    "resultMaxParalelo = result\n",
    "resultMaxParalelo = resultMaxParalelo.loc[resultMaxParalelo['algorithm'] == 'maximoParalelo']\n",
    "time = resultMaxParalelo['time']['mean'].values.tolist()\n",
    "std = resultMaxParalelo['time']['std'].values.tolist()\n",
    "cantThreads = resultMaxParalelo['cantThreads'].values.tolist()\n",
    "\n",
    "plt.scatter(cantThreads, time)\n",
    "plt.errorbar(cantThreads,time, yerr = std, fmt=\"o\")\n",
    "plt.xlabel('threads')\n",
    "plt.ylabel('time (ms)')\n",
    "plt.show()"
   ]
  },
  {
   "cell_type": "markdown",
   "metadata": {},
   "source": [
    "### Multithreading en cargar multiples archivos"
   ]
  },
  {
   "cell_type": "code",
   "execution_count": 70,
   "metadata": {},
   "outputs": [
    {
     "name": "stderr",
     "output_type": "stream",
     "text": [
      "100%|██████████| 10/10 [01:01<00:00,  6.13s/it]"
     ]
    },
    {
     "name": "stdout",
     "output_type": "stream",
     "text": [
      "    cantThreads  sec        ns                algorithm\n",
      "0             1    0  20434152  cargarMultiplesArchivos\n",
      "1             1    0    187774           maximoParalelo\n",
      "2             2    0   9112952  cargarMultiplesArchivos\n",
      "3             2    0    132043           maximoParalelo\n",
      "4             3    0   9271430  cargarMultiplesArchivos\n",
      "..          ...  ...       ...                      ...\n",
      "19           15    0    361041           maximoParalelo\n",
      "20           20    0   8667107  cargarMultiplesArchivos\n",
      "21           20    0    522608           maximoParalelo\n",
      "22           26    0   7503027  cargarMultiplesArchivos\n",
      "23           26    0    662136           maximoParalelo\n",
      "\n",
      "[7200 rows x 4 columns]\n"
     ]
    },
    {
     "name": "stderr",
     "output_type": "stream",
     "text": [
      "\n"
     ]
    }
   ],
   "source": [
    "threads = [1,2,3,4,5,6,7,8,10,15,20,26]\n",
    "columns = ['cantThreads', 'sec', 'ns', 'algorithm']\n",
    "\n",
    "df = pd.DataFrame(columns = columns)\n",
    "dataframes = []\n",
    "datasetsDir=\"./data/incremental/\"\n",
    "\n",
    "for repeat in tqdm(range(20)):\n",
    "    for dataset in os.listdir(datasetsDir):\n",
    "        #create output file\n",
    "        result = './results/uniformeMultiplesArchivos.csv'\n",
    "        outputFile = open(result, 'w+')\n",
    "        outputFile.write(\"cantThreads,sec,ns,algorithm\\n\")\n",
    "\n",
    "        args = \"\"\n",
    "        for file in os.listdir(datasetsDir):\n",
    "            args += \" \" + datasetsDir + file\n",
    "\n",
    "        #print (args)\n",
    "        for cantThreads in threads:\n",
    "            command = executablePath + \" %s %s %s\" % (cantThreads, cantThreads, args)\n",
    "            p = subprocess.Popen(command, shell=True, stdout=subprocess.PIPE)\n",
    "            p.wait()\n",
    "\n",
    "            output=p.stdout.read().decode(\"utf-8\")\n",
    "            outputFile.write(output)\n",
    "\n",
    "        outputFile.close()\n",
    "\n",
    "        df = pd.read_csv(result, header=[0])\n",
    "        dataframes.append(df)\n",
    "    \n",
    "dfExp2 = pd.concat(dataframes)\n",
    "print(dfExp2)"
   ]
  },
  {
   "cell_type": "code",
   "execution_count": 125,
   "metadata": {},
   "outputs": [
    {
     "ename": "KeyError",
     "evalue": "'sec'",
     "output_type": "error",
     "traceback": [
      "\u001b[0;31m---------------------------------------------------------------------------\u001b[0m",
      "\u001b[0;31mKeyError\u001b[0m                                  Traceback (most recent call last)",
      "\u001b[0;32m~/.local/lib/python3.8/site-packages/pandas/core/indexes/base.py\u001b[0m in \u001b[0;36mget_loc\u001b[0;34m(self, key, method, tolerance)\u001b[0m\n\u001b[1;32m   3620\u001b[0m             \u001b[0;32mtry\u001b[0m\u001b[0;34m:\u001b[0m\u001b[0;34m\u001b[0m\u001b[0;34m\u001b[0m\u001b[0m\n\u001b[0;32m-> 3621\u001b[0;31m                 \u001b[0;32mreturn\u001b[0m \u001b[0mself\u001b[0m\u001b[0;34m.\u001b[0m\u001b[0m_engine\u001b[0m\u001b[0;34m.\u001b[0m\u001b[0mget_loc\u001b[0m\u001b[0;34m(\u001b[0m\u001b[0mcasted_key\u001b[0m\u001b[0;34m)\u001b[0m\u001b[0;34m\u001b[0m\u001b[0;34m\u001b[0m\u001b[0m\n\u001b[0m\u001b[1;32m   3622\u001b[0m             \u001b[0;32mexcept\u001b[0m \u001b[0mKeyError\u001b[0m \u001b[0;32mas\u001b[0m \u001b[0merr\u001b[0m\u001b[0;34m:\u001b[0m\u001b[0;34m\u001b[0m\u001b[0;34m\u001b[0m\u001b[0m\n",
      "\u001b[0;32m~/.local/lib/python3.8/site-packages/pandas/_libs/index.pyx\u001b[0m in \u001b[0;36mpandas._libs.index.IndexEngine.get_loc\u001b[0;34m()\u001b[0m\n",
      "\u001b[0;32m~/.local/lib/python3.8/site-packages/pandas/_libs/index.pyx\u001b[0m in \u001b[0;36mpandas._libs.index.IndexEngine.get_loc\u001b[0;34m()\u001b[0m\n",
      "\u001b[0;32mpandas/_libs/hashtable_class_helper.pxi\u001b[0m in \u001b[0;36mpandas._libs.hashtable.PyObjectHashTable.get_item\u001b[0;34m()\u001b[0m\n",
      "\u001b[0;32mpandas/_libs/hashtable_class_helper.pxi\u001b[0m in \u001b[0;36mpandas._libs.hashtable.PyObjectHashTable.get_item\u001b[0;34m()\u001b[0m\n",
      "\u001b[0;31mKeyError\u001b[0m: 'sec'",
      "\nThe above exception was the direct cause of the following exception:\n",
      "\u001b[0;31mKeyError\u001b[0m                                  Traceback (most recent call last)",
      "\u001b[0;32m<ipython-input-125-5f25f6e0ea38>\u001b[0m in \u001b[0;36m<module>\u001b[0;34m\u001b[0m\n\u001b[0;32m----> 1\u001b[0;31m \u001b[0mdfExp2\u001b[0m\u001b[0;34m[\u001b[0m\u001b[0;34m'time'\u001b[0m\u001b[0;34m]\u001b[0m \u001b[0;34m=\u001b[0m \u001b[0mdfExp2\u001b[0m\u001b[0;34m.\u001b[0m\u001b[0mapply\u001b[0m\u001b[0;34m(\u001b[0m\u001b[0;32mlambda\u001b[0m \u001b[0mrow\u001b[0m \u001b[0;34m:\u001b[0m \u001b[0mgetTime\u001b[0m\u001b[0;34m(\u001b[0m\u001b[0mrow\u001b[0m\u001b[0;34m[\u001b[0m\u001b[0;34m'sec'\u001b[0m\u001b[0;34m]\u001b[0m\u001b[0;34m,\u001b[0m\u001b[0mrow\u001b[0m\u001b[0;34m[\u001b[0m\u001b[0;34m'ns'\u001b[0m\u001b[0;34m]\u001b[0m\u001b[0;34m)\u001b[0m\u001b[0;34m,\u001b[0m \u001b[0maxis\u001b[0m \u001b[0;34m=\u001b[0m \u001b[0;36m1\u001b[0m\u001b[0;34m)\u001b[0m\u001b[0;34m\u001b[0m\u001b[0;34m\u001b[0m\u001b[0m\n\u001b[0m\u001b[1;32m      2\u001b[0m \u001b[0mdfExp2\u001b[0m \u001b[0;34m=\u001b[0m \u001b[0mdfExp2\u001b[0m\u001b[0;34m.\u001b[0m\u001b[0mdrop\u001b[0m\u001b[0;34m(\u001b[0m\u001b[0;34m[\u001b[0m\u001b[0;34m'sec'\u001b[0m\u001b[0;34m,\u001b[0m \u001b[0;34m'ns'\u001b[0m\u001b[0;34m]\u001b[0m\u001b[0;34m,\u001b[0m \u001b[0maxis\u001b[0m \u001b[0;34m=\u001b[0m \u001b[0;36m1\u001b[0m\u001b[0;34m)\u001b[0m\u001b[0;34m\u001b[0m\u001b[0;34m\u001b[0m\u001b[0m\n\u001b[1;32m      3\u001b[0m \u001b[0mresult2\u001b[0m \u001b[0;34m=\u001b[0m \u001b[0mdfExp2\u001b[0m\u001b[0;34m.\u001b[0m\u001b[0mgroupby\u001b[0m\u001b[0;34m(\u001b[0m\u001b[0;34m[\u001b[0m\u001b[0;34m'cantThreads'\u001b[0m\u001b[0;34m,\u001b[0m \u001b[0;34m'algorithm'\u001b[0m\u001b[0;34m]\u001b[0m\u001b[0;34m)\u001b[0m\u001b[0;34m.\u001b[0m\u001b[0magg\u001b[0m\u001b[0;34m(\u001b[0m\u001b[0;34m{\u001b[0m\u001b[0;34m'time'\u001b[0m\u001b[0;34m:\u001b[0m\u001b[0;34m[\u001b[0m\u001b[0;34m'mean'\u001b[0m\u001b[0;34m,\u001b[0m\u001b[0;34m'std'\u001b[0m\u001b[0;34m]\u001b[0m\u001b[0;34m}\u001b[0m\u001b[0;34m)\u001b[0m\u001b[0;34m.\u001b[0m\u001b[0mreset_index\u001b[0m\u001b[0;34m(\u001b[0m\u001b[0;34m)\u001b[0m\u001b[0;34m\u001b[0m\u001b[0;34m\u001b[0m\u001b[0m\n\u001b[1;32m      4\u001b[0m \u001b[0mprint\u001b[0m\u001b[0;34m(\u001b[0m\u001b[0mresult2\u001b[0m\u001b[0;34m)\u001b[0m\u001b[0;34m\u001b[0m\u001b[0;34m\u001b[0m\u001b[0m\n",
      "\u001b[0;32m~/.local/lib/python3.8/site-packages/pandas/core/frame.py\u001b[0m in \u001b[0;36mapply\u001b[0;34m(self, func, axis, raw, result_type, args, **kwargs)\u001b[0m\n\u001b[1;32m   8837\u001b[0m             \u001b[0mkwargs\u001b[0m\u001b[0;34m=\u001b[0m\u001b[0mkwargs\u001b[0m\u001b[0;34m,\u001b[0m\u001b[0;34m\u001b[0m\u001b[0;34m\u001b[0m\u001b[0m\n\u001b[1;32m   8838\u001b[0m         )\n\u001b[0;32m-> 8839\u001b[0;31m         \u001b[0;32mreturn\u001b[0m \u001b[0mop\u001b[0m\u001b[0;34m.\u001b[0m\u001b[0mapply\u001b[0m\u001b[0;34m(\u001b[0m\u001b[0;34m)\u001b[0m\u001b[0;34m.\u001b[0m\u001b[0m__finalize__\u001b[0m\u001b[0;34m(\u001b[0m\u001b[0mself\u001b[0m\u001b[0;34m,\u001b[0m \u001b[0mmethod\u001b[0m\u001b[0;34m=\u001b[0m\u001b[0;34m\"apply\"\u001b[0m\u001b[0;34m)\u001b[0m\u001b[0;34m\u001b[0m\u001b[0;34m\u001b[0m\u001b[0m\n\u001b[0m\u001b[1;32m   8840\u001b[0m \u001b[0;34m\u001b[0m\u001b[0m\n\u001b[1;32m   8841\u001b[0m     def applymap(\n",
      "\u001b[0;32m~/.local/lib/python3.8/site-packages/pandas/core/apply.py\u001b[0m in \u001b[0;36mapply\u001b[0;34m(self)\u001b[0m\n\u001b[1;32m    725\u001b[0m             \u001b[0;32mreturn\u001b[0m \u001b[0mself\u001b[0m\u001b[0;34m.\u001b[0m\u001b[0mapply_raw\u001b[0m\u001b[0;34m(\u001b[0m\u001b[0;34m)\u001b[0m\u001b[0;34m\u001b[0m\u001b[0;34m\u001b[0m\u001b[0m\n\u001b[1;32m    726\u001b[0m \u001b[0;34m\u001b[0m\u001b[0m\n\u001b[0;32m--> 727\u001b[0;31m         \u001b[0;32mreturn\u001b[0m \u001b[0mself\u001b[0m\u001b[0;34m.\u001b[0m\u001b[0mapply_standard\u001b[0m\u001b[0;34m(\u001b[0m\u001b[0;34m)\u001b[0m\u001b[0;34m\u001b[0m\u001b[0;34m\u001b[0m\u001b[0m\n\u001b[0m\u001b[1;32m    728\u001b[0m \u001b[0;34m\u001b[0m\u001b[0m\n\u001b[1;32m    729\u001b[0m     \u001b[0;32mdef\u001b[0m \u001b[0magg\u001b[0m\u001b[0;34m(\u001b[0m\u001b[0mself\u001b[0m\u001b[0;34m)\u001b[0m\u001b[0;34m:\u001b[0m\u001b[0;34m\u001b[0m\u001b[0;34m\u001b[0m\u001b[0m\n",
      "\u001b[0;32m~/.local/lib/python3.8/site-packages/pandas/core/apply.py\u001b[0m in \u001b[0;36mapply_standard\u001b[0;34m(self)\u001b[0m\n\u001b[1;32m    849\u001b[0m \u001b[0;34m\u001b[0m\u001b[0m\n\u001b[1;32m    850\u001b[0m     \u001b[0;32mdef\u001b[0m \u001b[0mapply_standard\u001b[0m\u001b[0;34m(\u001b[0m\u001b[0mself\u001b[0m\u001b[0;34m)\u001b[0m\u001b[0;34m:\u001b[0m\u001b[0;34m\u001b[0m\u001b[0;34m\u001b[0m\u001b[0m\n\u001b[0;32m--> 851\u001b[0;31m         \u001b[0mresults\u001b[0m\u001b[0;34m,\u001b[0m \u001b[0mres_index\u001b[0m \u001b[0;34m=\u001b[0m \u001b[0mself\u001b[0m\u001b[0;34m.\u001b[0m\u001b[0mapply_series_generator\u001b[0m\u001b[0;34m(\u001b[0m\u001b[0;34m)\u001b[0m\u001b[0;34m\u001b[0m\u001b[0;34m\u001b[0m\u001b[0m\n\u001b[0m\u001b[1;32m    852\u001b[0m \u001b[0;34m\u001b[0m\u001b[0m\n\u001b[1;32m    853\u001b[0m         \u001b[0;31m# wrap results\u001b[0m\u001b[0;34m\u001b[0m\u001b[0;34m\u001b[0m\u001b[0;34m\u001b[0m\u001b[0m\n",
      "\u001b[0;32m~/.local/lib/python3.8/site-packages/pandas/core/apply.py\u001b[0m in \u001b[0;36mapply_series_generator\u001b[0;34m(self)\u001b[0m\n\u001b[1;32m    865\u001b[0m             \u001b[0;32mfor\u001b[0m \u001b[0mi\u001b[0m\u001b[0;34m,\u001b[0m \u001b[0mv\u001b[0m \u001b[0;32min\u001b[0m \u001b[0menumerate\u001b[0m\u001b[0;34m(\u001b[0m\u001b[0mseries_gen\u001b[0m\u001b[0;34m)\u001b[0m\u001b[0;34m:\u001b[0m\u001b[0;34m\u001b[0m\u001b[0;34m\u001b[0m\u001b[0m\n\u001b[1;32m    866\u001b[0m                 \u001b[0;31m# ignore SettingWithCopy here in case the user mutates\u001b[0m\u001b[0;34m\u001b[0m\u001b[0;34m\u001b[0m\u001b[0;34m\u001b[0m\u001b[0m\n\u001b[0;32m--> 867\u001b[0;31m                 \u001b[0mresults\u001b[0m\u001b[0;34m[\u001b[0m\u001b[0mi\u001b[0m\u001b[0;34m]\u001b[0m \u001b[0;34m=\u001b[0m \u001b[0mself\u001b[0m\u001b[0;34m.\u001b[0m\u001b[0mf\u001b[0m\u001b[0;34m(\u001b[0m\u001b[0mv\u001b[0m\u001b[0;34m)\u001b[0m\u001b[0;34m\u001b[0m\u001b[0;34m\u001b[0m\u001b[0m\n\u001b[0m\u001b[1;32m    868\u001b[0m                 \u001b[0;32mif\u001b[0m \u001b[0misinstance\u001b[0m\u001b[0;34m(\u001b[0m\u001b[0mresults\u001b[0m\u001b[0;34m[\u001b[0m\u001b[0mi\u001b[0m\u001b[0;34m]\u001b[0m\u001b[0;34m,\u001b[0m \u001b[0mABCSeries\u001b[0m\u001b[0;34m)\u001b[0m\u001b[0;34m:\u001b[0m\u001b[0;34m\u001b[0m\u001b[0;34m\u001b[0m\u001b[0m\n\u001b[1;32m    869\u001b[0m                     \u001b[0;31m# If we have a view on v, we need to make a copy because\u001b[0m\u001b[0;34m\u001b[0m\u001b[0;34m\u001b[0m\u001b[0;34m\u001b[0m\u001b[0m\n",
      "\u001b[0;32m<ipython-input-125-5f25f6e0ea38>\u001b[0m in \u001b[0;36m<lambda>\u001b[0;34m(row)\u001b[0m\n\u001b[0;32m----> 1\u001b[0;31m \u001b[0mdfExp2\u001b[0m\u001b[0;34m[\u001b[0m\u001b[0;34m'time'\u001b[0m\u001b[0;34m]\u001b[0m \u001b[0;34m=\u001b[0m \u001b[0mdfExp2\u001b[0m\u001b[0;34m.\u001b[0m\u001b[0mapply\u001b[0m\u001b[0;34m(\u001b[0m\u001b[0;32mlambda\u001b[0m \u001b[0mrow\u001b[0m \u001b[0;34m:\u001b[0m \u001b[0mgetTime\u001b[0m\u001b[0;34m(\u001b[0m\u001b[0mrow\u001b[0m\u001b[0;34m[\u001b[0m\u001b[0;34m'sec'\u001b[0m\u001b[0;34m]\u001b[0m\u001b[0;34m,\u001b[0m\u001b[0mrow\u001b[0m\u001b[0;34m[\u001b[0m\u001b[0;34m'ns'\u001b[0m\u001b[0;34m]\u001b[0m\u001b[0;34m)\u001b[0m\u001b[0;34m,\u001b[0m \u001b[0maxis\u001b[0m \u001b[0;34m=\u001b[0m \u001b[0;36m1\u001b[0m\u001b[0;34m)\u001b[0m\u001b[0;34m\u001b[0m\u001b[0;34m\u001b[0m\u001b[0m\n\u001b[0m\u001b[1;32m      2\u001b[0m \u001b[0mdfExp2\u001b[0m \u001b[0;34m=\u001b[0m \u001b[0mdfExp2\u001b[0m\u001b[0;34m.\u001b[0m\u001b[0mdrop\u001b[0m\u001b[0;34m(\u001b[0m\u001b[0;34m[\u001b[0m\u001b[0;34m'sec'\u001b[0m\u001b[0;34m,\u001b[0m \u001b[0;34m'ns'\u001b[0m\u001b[0;34m]\u001b[0m\u001b[0;34m,\u001b[0m \u001b[0maxis\u001b[0m \u001b[0;34m=\u001b[0m \u001b[0;36m1\u001b[0m\u001b[0;34m)\u001b[0m\u001b[0;34m\u001b[0m\u001b[0;34m\u001b[0m\u001b[0m\n\u001b[1;32m      3\u001b[0m \u001b[0mresult2\u001b[0m \u001b[0;34m=\u001b[0m \u001b[0mdfExp2\u001b[0m\u001b[0;34m.\u001b[0m\u001b[0mgroupby\u001b[0m\u001b[0;34m(\u001b[0m\u001b[0;34m[\u001b[0m\u001b[0;34m'cantThreads'\u001b[0m\u001b[0;34m,\u001b[0m \u001b[0;34m'algorithm'\u001b[0m\u001b[0;34m]\u001b[0m\u001b[0;34m)\u001b[0m\u001b[0;34m.\u001b[0m\u001b[0magg\u001b[0m\u001b[0;34m(\u001b[0m\u001b[0;34m{\u001b[0m\u001b[0;34m'time'\u001b[0m\u001b[0;34m:\u001b[0m\u001b[0;34m[\u001b[0m\u001b[0;34m'mean'\u001b[0m\u001b[0;34m,\u001b[0m\u001b[0;34m'std'\u001b[0m\u001b[0;34m]\u001b[0m\u001b[0;34m}\u001b[0m\u001b[0;34m)\u001b[0m\u001b[0;34m.\u001b[0m\u001b[0mreset_index\u001b[0m\u001b[0;34m(\u001b[0m\u001b[0;34m)\u001b[0m\u001b[0;34m\u001b[0m\u001b[0;34m\u001b[0m\u001b[0m\n\u001b[1;32m      4\u001b[0m \u001b[0mprint\u001b[0m\u001b[0;34m(\u001b[0m\u001b[0mresult2\u001b[0m\u001b[0;34m)\u001b[0m\u001b[0;34m\u001b[0m\u001b[0;34m\u001b[0m\u001b[0m\n",
      "\u001b[0;32m~/.local/lib/python3.8/site-packages/pandas/core/series.py\u001b[0m in \u001b[0;36m__getitem__\u001b[0;34m(self, key)\u001b[0m\n\u001b[1;32m    956\u001b[0m \u001b[0;34m\u001b[0m\u001b[0m\n\u001b[1;32m    957\u001b[0m         \u001b[0;32melif\u001b[0m \u001b[0mkey_is_scalar\u001b[0m\u001b[0;34m:\u001b[0m\u001b[0;34m\u001b[0m\u001b[0;34m\u001b[0m\u001b[0m\n\u001b[0;32m--> 958\u001b[0;31m             \u001b[0;32mreturn\u001b[0m \u001b[0mself\u001b[0m\u001b[0;34m.\u001b[0m\u001b[0m_get_value\u001b[0m\u001b[0;34m(\u001b[0m\u001b[0mkey\u001b[0m\u001b[0;34m)\u001b[0m\u001b[0;34m\u001b[0m\u001b[0;34m\u001b[0m\u001b[0m\n\u001b[0m\u001b[1;32m    959\u001b[0m \u001b[0;34m\u001b[0m\u001b[0m\n\u001b[1;32m    960\u001b[0m         \u001b[0;32mif\u001b[0m \u001b[0mis_hashable\u001b[0m\u001b[0;34m(\u001b[0m\u001b[0mkey\u001b[0m\u001b[0;34m)\u001b[0m\u001b[0;34m:\u001b[0m\u001b[0;34m\u001b[0m\u001b[0;34m\u001b[0m\u001b[0m\n",
      "\u001b[0;32m~/.local/lib/python3.8/site-packages/pandas/core/series.py\u001b[0m in \u001b[0;36m_get_value\u001b[0;34m(self, label, takeable)\u001b[0m\n\u001b[1;32m   1067\u001b[0m \u001b[0;34m\u001b[0m\u001b[0m\n\u001b[1;32m   1068\u001b[0m         \u001b[0;31m# Similar to Index.get_value, but we do not fall back to positional\u001b[0m\u001b[0;34m\u001b[0m\u001b[0;34m\u001b[0m\u001b[0;34m\u001b[0m\u001b[0m\n\u001b[0;32m-> 1069\u001b[0;31m         \u001b[0mloc\u001b[0m \u001b[0;34m=\u001b[0m \u001b[0mself\u001b[0m\u001b[0;34m.\u001b[0m\u001b[0mindex\u001b[0m\u001b[0;34m.\u001b[0m\u001b[0mget_loc\u001b[0m\u001b[0;34m(\u001b[0m\u001b[0mlabel\u001b[0m\u001b[0;34m)\u001b[0m\u001b[0;34m\u001b[0m\u001b[0;34m\u001b[0m\u001b[0m\n\u001b[0m\u001b[1;32m   1070\u001b[0m         \u001b[0;32mreturn\u001b[0m \u001b[0mself\u001b[0m\u001b[0;34m.\u001b[0m\u001b[0mindex\u001b[0m\u001b[0;34m.\u001b[0m\u001b[0m_get_values_for_loc\u001b[0m\u001b[0;34m(\u001b[0m\u001b[0mself\u001b[0m\u001b[0;34m,\u001b[0m \u001b[0mloc\u001b[0m\u001b[0;34m,\u001b[0m \u001b[0mlabel\u001b[0m\u001b[0;34m)\u001b[0m\u001b[0;34m\u001b[0m\u001b[0;34m\u001b[0m\u001b[0m\n\u001b[1;32m   1071\u001b[0m \u001b[0;34m\u001b[0m\u001b[0m\n",
      "\u001b[0;32m~/.local/lib/python3.8/site-packages/pandas/core/indexes/base.py\u001b[0m in \u001b[0;36mget_loc\u001b[0;34m(self, key, method, tolerance)\u001b[0m\n\u001b[1;32m   3621\u001b[0m                 \u001b[0;32mreturn\u001b[0m \u001b[0mself\u001b[0m\u001b[0;34m.\u001b[0m\u001b[0m_engine\u001b[0m\u001b[0;34m.\u001b[0m\u001b[0mget_loc\u001b[0m\u001b[0;34m(\u001b[0m\u001b[0mcasted_key\u001b[0m\u001b[0;34m)\u001b[0m\u001b[0;34m\u001b[0m\u001b[0;34m\u001b[0m\u001b[0m\n\u001b[1;32m   3622\u001b[0m             \u001b[0;32mexcept\u001b[0m \u001b[0mKeyError\u001b[0m \u001b[0;32mas\u001b[0m \u001b[0merr\u001b[0m\u001b[0;34m:\u001b[0m\u001b[0;34m\u001b[0m\u001b[0;34m\u001b[0m\u001b[0m\n\u001b[0;32m-> 3623\u001b[0;31m                 \u001b[0;32mraise\u001b[0m \u001b[0mKeyError\u001b[0m\u001b[0;34m(\u001b[0m\u001b[0mkey\u001b[0m\u001b[0;34m)\u001b[0m \u001b[0;32mfrom\u001b[0m \u001b[0merr\u001b[0m\u001b[0;34m\u001b[0m\u001b[0;34m\u001b[0m\u001b[0m\n\u001b[0m\u001b[1;32m   3624\u001b[0m             \u001b[0;32mexcept\u001b[0m \u001b[0mTypeError\u001b[0m\u001b[0;34m:\u001b[0m\u001b[0;34m\u001b[0m\u001b[0;34m\u001b[0m\u001b[0m\n\u001b[1;32m   3625\u001b[0m                 \u001b[0;31m# If we have a listlike key, _check_indexing_error will raise\u001b[0m\u001b[0;34m\u001b[0m\u001b[0;34m\u001b[0m\u001b[0;34m\u001b[0m\u001b[0m\n",
      "\u001b[0;31mKeyError\u001b[0m: 'sec'"
     ]
    }
   ],
   "source": [
    "dfExp2['time'] = dfExp2.apply(lambda row : getTime(row['sec'],row['ns']), axis = 1)\n",
    "dfExp2 = dfExp2.drop(['sec', 'ns'], axis = 1)\n",
    "result2 = dfExp2.groupby(['cantThreads', 'algorithm']).agg({'time':['mean','std']}).reset_index()\n",
    "print(result2)"
   ]
  },
  {
   "cell_type": "code",
   "execution_count": 126,
   "metadata": {},
   "outputs": [
    {
     "data": {
      "image/png": "[encoded data removed]",
      "text/plain": [
       "<Figure size 432x288 with 1 Axes>"
      ]
     },
     "metadata": {
      "needs_background": "light"
     },
     "output_type": "display_data"
    }
   ],
   "source": [
    "resultMultiArc = result2\n",
    "resultMultiArc = resultMultiArc.loc[resultMultiArc['algorithm'] == 'cargarMultiplesArchivos']\n",
    "time = resultMultiArc['time']['mean'].values.tolist()\n",
    "std = resultMultiArc['time']['std'].values.tolist()\n",
    "cantThreads = resultMultiArc['cantThreads'].values.tolist()\n",
    "\n",
    "plt.scatter(cantThreads, time)\n",
    "plt.errorbar(cantThreads,time, yerr = std, fmt=\"o\")\n",
    "plt.xlabel('threads')\n",
    "plt.ylabel('time (ms)')\n",
    "plt.show()"
   ]
  },
  {
   "cell_type": "markdown",
   "metadata": {},
   "source": [
    "### Multithreading de maximo paralelo con distinta distribucion"
   ]
  },
  {
   "cell_type": "code",
   "execution_count": 121,
   "metadata": {},
   "outputs": [
    {
     "name": "stdout",
     "output_type": "stream",
     "text": [
      "   cantThreads                algorithm       time           \n",
      "                                              mean        std\n",
      "0            1  cargarMultiplesArchivos  38.943483   6.255198\n",
      "1            1           maximoParalelo   0.321472   0.109270\n",
      "2            2  cargarMultiplesArchivos  37.434632   3.604227\n",
      "3            2           maximoParalelo   0.194870   0.068221\n",
      "4            3  cargarMultiplesArchivos  38.304002   4.484727\n",
      "5            3           maximoParalelo   0.355832   0.493515\n",
      "6            4  cargarMultiplesArchivos  37.411872   4.750323\n",
      "7            4           maximoParalelo   0.321572   0.370873\n",
      "8            5  cargarMultiplesArchivos  38.056621   6.189433\n",
      "9            5           maximoParalelo   0.295013   0.281829\n",
      "10           6  cargarMultiplesArchivos  37.818650   4.045291\n",
      "11           6           maximoParalelo   0.782674   1.226823\n",
      "12           7  cargarMultiplesArchivos  38.278444   5.807380\n",
      "13           7           maximoParalelo   0.601817   1.206909\n",
      "14           8  cargarMultiplesArchivos  38.651478   7.141569\n",
      "15           8           maximoParalelo   0.742952   1.154071\n",
      "16          10  cargarMultiplesArchivos  39.062376   7.191637\n",
      "17          10           maximoParalelo   1.182338   1.596608\n",
      "18          15  cargarMultiplesArchivos  40.983481  10.637810\n",
      "19          15           maximoParalelo   0.895438   0.787925\n",
      "20          20  cargarMultiplesArchivos  40.743776  10.791768\n",
      "21          20           maximoParalelo   1.107234   1.082318\n",
      "22          26  cargarMultiplesArchivos  39.523837   6.917018\n",
      "23          26           maximoParalelo   1.488543   1.624756\n"
     ]
    }
   ],
   "source": [
    "threads = [1,2,3,4,5,6,7,8,10,15,20,26]\n",
    "columns = ['cantThreads', 'sec', 'ns', 'algorithm']\n",
    "\n",
    "df = pd.DataFrame(columns = columns)\n",
    "dataframes = []\n",
    "\n",
    "for repeat in range(20):\n",
    "    #create output file\n",
    "    result = './results/normalRandomized.csv'\n",
    "    outputFile = open(result, 'w+')\n",
    "    outputFile.write(\"cantThreads,sec,ns,algorithm\\n\")\n",
    "    \n",
    "    args = \"./data/normalRandomized.txt\"\n",
    "    \n",
    "    for cantThreads in threads:\n",
    "        command = executablePath + \" %s %s %s\" % (cantThreads, cantThreads, args)\n",
    "        p = subprocess.Popen(command, shell=True, stdout=subprocess.PIPE)\n",
    "        p.wait()\n",
    "        \n",
    "        output=p.stdout.read().decode(\"utf-8\")\n",
    "        outputFile.write(output)\n",
    "    \n",
    "    outputFile.close()\n",
    "    \n",
    "    df = pd.read_csv(result, header=[0])\n",
    "    dataframes.append(df)\n",
    "    \n",
    "dfExpNorm = pd.concat(dataframes)\n",
    "dfExpNorm['time'] = dfExpNorm.apply(lambda row : getTime(row['sec'],row['ns']), axis = 1)\n",
    "dfExpNorm = dfExpNorm.drop(['sec', 'ns'], axis = 1)\n",
    "resultNorm = dfExpNorm.groupby(['cantThreads', 'algorithm']).agg({'time':['mean','std']}).reset_index()\n",
    "print(resultNorm)"
   ]
  },
  {
   "cell_type": "code",
   "execution_count": 120,
   "metadata": {},
   "outputs": [
    {
     "name": "stdout",
     "output_type": "stream",
     "text": [
      "   cantThreads                algorithm       time          \n",
      "                                              mean       std\n",
      "0            1  cargarMultiplesArchivos  52.748464  6.921987\n",
      "1            1           maximoParalelo   0.266718  0.062602\n",
      "2            2  cargarMultiplesArchivos  50.768691  6.979138\n",
      "3            2           maximoParalelo   0.435336  1.035522\n",
      "4            3  cargarMultiplesArchivos  50.904548  6.826838\n",
      "5            3           maximoParalelo   0.327250  0.348502\n",
      "6            4  cargarMultiplesArchivos  48.993174  5.964595\n",
      "7            4           maximoParalelo   0.223060  0.064317\n",
      "8            5  cargarMultiplesArchivos  49.689569  7.258712\n",
      "9            5           maximoParalelo   0.590084  0.888500\n",
      "10           6  cargarMultiplesArchivos  48.596227  7.828245\n",
      "11           6           maximoParalelo   0.343596  0.314598\n",
      "12           7  cargarMultiplesArchivos  48.450916  6.746490\n",
      "13           7           maximoParalelo   0.318740  0.235405\n",
      "14           8  cargarMultiplesArchivos  48.827750  5.635403\n",
      "15           8           maximoParalelo   0.330117  0.193565\n",
      "16          10  cargarMultiplesArchivos  47.613488  4.390097\n",
      "17          10           maximoParalelo   0.640561  0.890683\n",
      "18          15  cargarMultiplesArchivos  52.647793  9.727734\n",
      "19          15           maximoParalelo   0.576623  0.292257\n",
      "20          20  cargarMultiplesArchivos  51.718375  8.800903\n",
      "21          20           maximoParalelo   0.909284  0.580560\n",
      "22          26  cargarMultiplesArchivos  49.344156  5.639866\n",
      "23          26           maximoParalelo   1.345502  1.558158\n"
     ]
    }
   ],
   "source": [
    "threads = [1,2,3,4,5,6,7,8,10,15,20,26]\n",
    "columns = ['cantThreads', 'sec', 'ns', 'algorithm']\n",
    "\n",
    "df = pd.DataFrame(columns = columns)\n",
    "dataframes = []\n",
    "\n",
    "for repeat in range(20):\n",
    "    #create output file\n",
    "    result = './results/bernoulliRandomized.csv'\n",
    "    outputFile = open(result, 'w+')\n",
    "    outputFile.write(\"cantThreads,sec,ns,algorithm\\n\")\n",
    "    \n",
    "    args = \"./data/bernoulliRandomized.txt\"\n",
    "    \n",
    "    for cantThreads in threads:\n",
    "        command = executablePath + \" %s %s %s\" % (cantThreads, cantThreads, args)\n",
    "        p = subprocess.Popen(command, shell=True, stdout=subprocess.PIPE)\n",
    "        p.wait()\n",
    "        \n",
    "        output=p.stdout.read().decode(\"utf-8\")\n",
    "        outputFile.write(output)\n",
    "    \n",
    "    outputFile.close()\n",
    "    \n",
    "    df = pd.read_csv(result, header=[0])\n",
    "    dataframes.append(df)\n",
    "    \n",
    "dfExpBer = pd.concat(dataframes)\n",
    "dfExpBer['time'] = dfExpBer.apply(lambda row : getTime(row['sec'],row['ns']), axis = 1)\n",
    "dfExpBer = dfExpBer.drop(['sec', 'ns'], axis = 1)\n",
    "resultBer = dfExpBer.groupby(['cantThreads', 'algorithm']).agg({'time':['mean','std']}).reset_index()\n",
    "print(resultBer)"
   ]
  },
  {
   "cell_type": "code",
   "execution_count": 124,
   "metadata": {},
   "outputs": [
    {
     "data": {
      "image/png": "[encoded data removed]",
      "text/plain": [
       "<Figure size 432x288 with 1 Axes>"
      ]
     },
     "metadata": {
      "needs_background": "light"
     },
     "output_type": "display_data"
    }
   ],
   "source": [
    "resultMaxParaleloBer = resultBer\n",
    "resultMaxParaleloBer = resultMaxParaleloBer.loc[resultMaxParaleloBer['algorithm'] == 'maximoParalelo']\n",
    "timeBer = resultMaxParaleloBer['time']['mean'].values.tolist()\n",
    "stdBer = resultMaxParaleloBer['time']['std'].values.tolist()\n",
    "cantThreadsBer = resultMaxParaleloBer['cantThreads'].values.tolist()\n",
    "\n",
    "resultMaxParaleloNormal = resultNorm\n",
    "resultMaxParaleloNormal = resultMaxParaleloNormal.loc[resultMaxParaleloNormal['algorithm'] == 'maximoParalelo']\n",
    "timeNorm = resultMaxParaleloNormal['time']['mean'].values.tolist()\n",
    "stdNorm = resultMaxParaleloNormal['time']['std'].values.tolist()\n",
    "cantThreadsNorm = resultMaxParaleloNormal['cantThreads'].values.tolist()\n",
    "\n",
    "plt.scatter(cantThreadsBer, timeBer, label = \"bernoulli\")\n",
    "plt.errorbar(cantThreadsBer,timeBer, yerr = stdBer, fmt=\"o\")\n",
    "\n",
    "plt.scatter(cantThreadsNorm, timeNorm, label = \"normal\")\n",
    "plt.errorbar(cantThreadsNorm,timeNorm, yerr = stdNorm, fmt=\"o\")\n",
    "\n",
    "plt.scatter(cantThreads, time, label = \"uniforme\")\n",
    "plt.errorbar(cantThreads,time, yerr = std, fmt=\"o\")\n",
    "\n",
    "plt.legend(loc = \"upper left\")\n",
    "plt.xlabel('threads')\n",
    "plt.ylabel('time (ms)')\n",
    "plt.show()"
   ]
  },
  {
   "cell_type": "code",
   "execution_count": 90,
   "metadata": {},
   "outputs": [
    {
     "name": "stdout",
     "output_type": "stream",
     "text": [
      "26\n"
     ]
    }
   ],
   "source": [
    "print(cantThreads)"
   ]
  },
  {
   "cell_type": "code",
   "execution_count": null,
   "metadata": {},
   "outputs": [],
   "source": []
  }
 ],
 "metadata": {
  "kernelspec": {
   "display_name": "Python 3",
   "language": "python",
   "name": "python3"
  },
  "language_info": {
   "codemirror_mode": {
    "name": "ipython",
    "version": 3
   },
   "file_extension": ".py",
   "mimetype": "text/x-python",
   "name": "python",
   "nbconvert_exporter": "python",
   "pygments_lexer": "ipython3",
   "version": "3.8.10"
  }
 },
 "nbformat": 4,
 "nbformat_minor": 4
}
