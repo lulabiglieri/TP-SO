{
 "cells": [
  {
   "cell_type": "markdown",
   "metadata": {},
   "source": [
    "# Experimentacion"
   ]
  },
  {
   "cell_type": "code",
   "execution_count": 34,
   "metadata": {},
   "outputs": [],
   "source": [
    "import numpy as np\n",
    "import pandas as pd\n",
    "import seaborn as sns\n",
    "import subprocess\n",
    "import matplotlib.pyplot as plt\n",
    "import glob, os\n",
    "import math\n",
    "import random\n",
    "from subprocess import Popen, PIPE\n",
    "import tqdm"
   ]
  },
  {
   "cell_type": "code",
   "execution_count": 12,
   "metadata": {},
   "outputs": [
    {
     "name": "stdout",
     "output_type": "stream",
     "text": [
      "./../codigo/build/ContarPalabras\n",
      "['incremental', 'normal.txt', 'uniforme.txt']\n",
      "['normal.txt', 'uniforme.txt']\n"
     ]
    }
   ],
   "source": [
    "executablePath = './../codigo/build/ContarPalabras'\n",
    "os.chdir(\"./\")\n",
    "print(executablePath)\n",
    "\n",
    "datasets = os.listdir(\"./data/\")\n",
    "print(datasets)\n",
    "datasets = datasets[1:]\n",
    "print(datasets)"
   ]
  },
  {
   "cell_type": "code",
   "execution_count": 59,
   "metadata": {},
   "outputs": [
    {
     "name": "stdout",
     "output_type": "stream",
     "text": [
      "    cantThreads                 algorithm      time\n",
      "0             1   cargarMultiplesArchivos  0.171119\n",
      "1             1            maximoParalelo  0.041322\n",
      "2             5   cargarMultiplesArchivos  0.240942\n",
      "3             5            maximoParalelo  0.111017\n",
      "4            10   cargarMultiplesArchivos  0.352464\n",
      "5            10            maximoParalelo  0.198400\n",
      "6            15   cargarMultiplesArchivos  0.536735\n",
      "7            15            maximoParalelo  0.301513\n",
      "8            20   cargarMultiplesArchivos  0.603994\n",
      "9            20            maximoParalelo  0.450549\n",
      "10           26   cargarMultiplesArchivos  0.751214\n",
      "11           26            maximoParalelo  0.659990\n"
     ]
    },
    {
     "data": {
      "image/png": "[encoded data removed]",
      "text/plain": [
       "<Figure size 432x288 with 1 Axes>"
      ]
     },
     "metadata": {
      "needs_background": "light"
     },
     "output_type": "display_data"
    }
   ],
   "source": [
    "threads = [1,5,10,15,20,26]\n",
    "\n",
    "columns = ['cantThreads', 'time', 'algorithm']\n",
    "df = pd.DataFrame(columns = columns)\n",
    "dataframes = []\n",
    "\n",
    "for repeat in range(20):\n",
    "    #create output file\n",
    "    result = './results/uniforme.csv'\n",
    "    outputFile = open(results, 'w+')\n",
    "    outputFile.write(\"cantThreads,time,algorithm\\n\")\n",
    "    \n",
    "    args = \"./data/dataset/uniforme.txt\"\n",
    "    \n",
    "    for cantThreads in threads:\n",
    "        command = executablePath + \" %s %s %s\" % (cantThreads, cantThreads, args)\n",
    "        p = subprocess.Popen(command, shell=True, stdout=subprocess.PIPE)\n",
    "        p.wait()\n",
    "        \n",
    "        output=p.stdout.read().decode(\"utf-8\")\n",
    "        outputFile.write(output)\n",
    "    \n",
    "    outputFile.close()\n",
    "    \n",
    "    df = pd.read_csv(result, header=[0])\n",
    "    dataframes.append(df)\n",
    "    \n",
    "dfExp = pd.concat(dataframes)\n",
    "    \n",
    "result = df.groupby(['cantThreads', 'algorithm']).mean().reset_index()\n",
    "result['time'] = result['time'].div(1000000)\n",
    "print(result)\n",
    "\n",
    "ax= sns.pointplot(data=result, x='cantThreads', y='time',hue=\"algorithm\", ci=None)"
   ]
  },
  {
   "cell_type": "code",
   "execution_count": null,
   "metadata": {},
   "outputs": [],
   "source": []
  }
 ],
 "metadata": {
  "kernelspec": {
   "display_name": "Python 3",
   "language": "python",
   "name": "python3"
  },
  "language_info": {
   "codemirror_mode": {
    "name": "ipython",
    "version": 3
   },
   "file_extension": ".py",
   "mimetype": "text/x-python",
   "name": "python",
   "nbconvert_exporter": "python",
   "pygments_lexer": "ipython3",
   "version": "3.8.10"
  }
 },
 "nbformat": 4,
 "nbformat_minor": 4
}
