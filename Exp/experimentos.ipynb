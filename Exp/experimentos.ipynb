{
 "cells": [
  {
   "cell_type": "markdown",
   "metadata": {},
   "source": [
    "# Experimentacion"
   ]
  },
  {
   "cell_type": "code",
   "execution_count": 1,
   "metadata": {},
   "outputs": [],
   "source": [
    "import numpy as np\n",
    "import pandas as pd\n",
    "import seaborn as sns\n",
    "import subprocess\n",
    "import matplotlib.pyplot as plt\n",
    "import glob, os\n",
    "import math\n",
    "import random\n",
    "from subprocess import Popen, PIPE\n",
    "import tqdm"
   ]
  },
  {
   "cell_type": "code",
   "execution_count": 2,
   "metadata": {},
   "outputs": [],
   "source": [
    "NS_PER_SECOND = 1000000000\n",
    "\n",
    "def getTime(s, ns):\n",
    "    if (s > 0 and ns < 0):\n",
    "        ns += NS_PER_SECOND\n",
    "        s=s-1\n",
    "    elif (s < 0 and ns > 0):\n",
    "        ns -= NS_PER_SECOND\n",
    "        s=s+1\n",
    "\n",
    "    ms = ns / 1000000\n",
    "    ms += s * 1000\n",
    "    return ms"
   ]
  },
  {
   "cell_type": "code",
   "execution_count": 3,
   "metadata": {},
   "outputs": [
    {
     "name": "stdout",
     "output_type": "stream",
     "text": [
      "./../codigo/build/ContarPalabras\n",
      "['incremental', 'normal.txt', 'uniforme.txt']\n",
      "['normal.txt', 'uniforme.txt']\n"
     ]
    }
   ],
   "source": [
    "executablePath = './../codigo/build/ContarPalabras'\n",
    "os.chdir(\"./\")\n",
    "print(executablePath)\n",
    "\n",
    "datasets = os.listdir(\"./data/\")\n",
    "print(datasets)\n",
    "datasets = datasets[1:]\n",
    "print(datasets)"
   ]
  },
  {
   "cell_type": "code",
   "execution_count": null,
   "metadata": {},
   "outputs": [],
   "source": [
    "threads = [1,2,3,4,5,6,7,8,10,15,20,25,26]\n",
    "columns = ['cantThreads', 'sec', 'ns', 'algorithm']\n",
    "\n",
    "df = pd.DataFrame(columns = columns)\n",
    "dataframes = []\n",
    "\n",
    "for repeat in range(20):\n",
    "    #create output file\n",
    "    result = './results/uniforme.csv'\n",
    "    outputFile = open(result, 'w+')\n",
    "    outputFile.write(\"cantThreads,sec,ns,algorithm\\n\")\n",
    "    \n",
    "    args = \"./data/uniforme.txt\"\n",
    "    \n",
    "    for cantThreads in threads:\n",
    "        command = executablePath + \" %s %s %s\" % (cantThreads, cantThreads, args)\n",
    "        p = subprocess.Popen(command, shell=True, stdout=subprocess.PIPE)\n",
    "        p.wait()\n",
    "        \n",
    "        output=p.stdout.read().decode(\"utf-8\")\n",
    "        outputFile.write(output)\n",
    "    \n",
    "    outputFile.close()\n",
    "    \n",
    "    df = pd.read_csv(result, header=[0])\n",
    "    dataframes.append(df)\n",
    "    \n",
    "dfExp = pd.concat(dataframes)\n",
    "print(dfExp)\n",
    "dfExp['time'] = dfExp.apply(lambda row : getTime(row['sec'],row['ns']), axis = 1)\n",
    "result = dfExp.groupby(['cantThreads', 'algorithm']).mean().reset_index()\n",
    "#result['time'] = result.apply(lambda row : getTime(row['sec'],row['ns']), axis = 1)\n",
    "print(result)\n",
    "ax= sns.pointplot(data=result[(result.algorithm == 'maximoParalelo')], x='cantThreads', y='time',hue=\"algorithm\", ci=None)"
   ]
  },
  {
   "cell_type": "code",
   "execution_count": 7,
   "metadata": {},
   "outputs": [
    {
     "name": "stdout",
     "output_type": "stream",
     "text": [
      " ./data/incremental/uniforme50/uniforme50_0.txt ./data/incremental/uniforme50/uniforme50_1.txt ./data/incremental/uniforme50/uniforme50_10.txt ./data/incremental/uniforme50/uniforme50_11.txt ./data/incremental/uniforme50/uniforme50_12.txt ./data/incremental/uniforme50/uniforme50_13.txt ./data/incremental/uniforme50/uniforme50_14.txt ./data/incremental/uniforme50/uniforme50_15.txt ./data/incremental/uniforme50/uniforme50_16.txt ./data/incremental/uniforme50/uniforme50_17.txt ./data/incremental/uniforme50/uniforme50_18.txt ./data/incremental/uniforme50/uniforme50_19.txt ./data/incremental/uniforme50/uniforme50_2.txt ./data/incremental/uniforme50/uniforme50_20.txt ./data/incremental/uniforme50/uniforme50_21.txt ./data/incremental/uniforme50/uniforme50_22.txt ./data/incremental/uniforme50/uniforme50_23.txt ./data/incremental/uniforme50/uniforme50_24.txt ./data/incremental/uniforme50/uniforme50_25.txt ./data/incremental/uniforme50/uniforme50_3.txt ./data/incremental/uniforme50/uniforme50_4.txt ./data/incremental/uniforme50/uniforme50_5.txt ./data/incremental/uniforme50/uniforme50_6.txt ./data/incremental/uniforme50/uniforme50_7.txt ./data/incremental/uniforme50/uniforme50_8.txt ./data/incremental/uniforme50/uniforme50_9.txt\n"
     ]
    },
    {
     "name": "stderr",
     "output_type": "stream",
     "text": [
      "double free or corruption (out)\n",
      "double free or corruption (out)\n",
      "double free or corruption (out)\n",
      "double free or corruption (out)\n",
      "double free or corruption (!prev)\n",
      "double free or corruption (out)\n",
      "ContarPalabras: malloc.c:2617: sysmalloc: Assertion `(old_top == initial_top (av) && old_size == 0) || ((unsigned long) (old_size) >= MINSIZE && prev_inuse (old_top) && ((unsigned long) old_end & (pagesize - 1)) == 0)' failed.\n"
     ]
    },
    {
     "name": "stdout",
     "output_type": "stream",
     "text": [
      " ./data/incremental/uniforme50/uniforme50_0.txt ./data/incremental/uniforme50/uniforme50_1.txt ./data/incremental/uniforme50/uniforme50_10.txt ./data/incremental/uniforme50/uniforme50_11.txt ./data/incremental/uniforme50/uniforme50_12.txt ./data/incremental/uniforme50/uniforme50_13.txt ./data/incremental/uniforme50/uniforme50_14.txt ./data/incremental/uniforme50/uniforme50_15.txt ./data/incremental/uniforme50/uniforme50_16.txt ./data/incremental/uniforme50/uniforme50_17.txt ./data/incremental/uniforme50/uniforme50_18.txt ./data/incremental/uniforme50/uniforme50_19.txt ./data/incremental/uniforme50/uniforme50_2.txt ./data/incremental/uniforme50/uniforme50_20.txt ./data/incremental/uniforme50/uniforme50_21.txt ./data/incremental/uniforme50/uniforme50_22.txt ./data/incremental/uniforme50/uniforme50_23.txt ./data/incremental/uniforme50/uniforme50_24.txt ./data/incremental/uniforme50/uniforme50_25.txt ./data/incremental/uniforme50/uniforme50_3.txt ./data/incremental/uniforme50/uniforme50_4.txt ./data/incremental/uniforme50/uniforme50_5.txt ./data/incremental/uniforme50/uniforme50_6.txt ./data/incremental/uniforme50/uniforme50_7.txt ./data/incremental/uniforme50/uniforme50_8.txt ./data/incremental/uniforme50/uniforme50_9.txt\n"
     ]
    },
    {
     "name": "stderr",
     "output_type": "stream",
     "text": [
      "double free or corruption (out)\n",
      "double free or corruption (out)\n",
      "double free or corruption (out)\n",
      "double free or corruption (!prev)\n",
      "double free or corruption (!prev)\n"
     ]
    },
    {
     "name": "stdout",
     "output_type": "stream",
     "text": [
      " ./data/incremental/uniforme50/uniforme50_0.txt ./data/incremental/uniforme50/uniforme50_1.txt ./data/incremental/uniforme50/uniforme50_10.txt ./data/incremental/uniforme50/uniforme50_11.txt ./data/incremental/uniforme50/uniforme50_12.txt ./data/incremental/uniforme50/uniforme50_13.txt ./data/incremental/uniforme50/uniforme50_14.txt ./data/incremental/uniforme50/uniforme50_15.txt ./data/incremental/uniforme50/uniforme50_16.txt ./data/incremental/uniforme50/uniforme50_17.txt ./data/incremental/uniforme50/uniforme50_18.txt ./data/incremental/uniforme50/uniforme50_19.txt ./data/incremental/uniforme50/uniforme50_2.txt ./data/incremental/uniforme50/uniforme50_20.txt ./data/incremental/uniforme50/uniforme50_21.txt ./data/incremental/uniforme50/uniforme50_22.txt ./data/incremental/uniforme50/uniforme50_23.txt ./data/incremental/uniforme50/uniforme50_24.txt ./data/incremental/uniforme50/uniforme50_25.txt ./data/incremental/uniforme50/uniforme50_3.txt ./data/incremental/uniforme50/uniforme50_4.txt ./data/incremental/uniforme50/uniforme50_5.txt ./data/incremental/uniforme50/uniforme50_6.txt ./data/incremental/uniforme50/uniforme50_7.txt ./data/incremental/uniforme50/uniforme50_8.txt ./data/incremental/uniforme50/uniforme50_9.txt\n"
     ]
    },
    {
     "name": "stderr",
     "output_type": "stream",
     "text": [
      "double free or corruption (!prev)\n",
      "ContarPalabras: malloc.c:2617: sysmalloc: Assertion `(old_top == initial_top (av) && old_size == 0) || ((unsigned long) (old_size) >= MINSIZE && prev_inuse (old_top) && ((unsigned long) old_end & (pagesize - 1)) == 0)' failed.\n",
      "double free or corruption (out)\n",
      "ContarPalabras: malloc.c:2617: sysmalloc: Assertion `(old_top == initial_top (av) && old_size == 0) || ((unsigned long) (old_size) >= MINSIZE && prev_inuse (old_top) && ((unsigned long) old_end & (pagesize - 1)) == 0)' failed.\n",
      "double free or corruption (!prev)\n",
      "double free or corruption (out)\n",
      "double free or corruption (out)\n",
      "double free or corruption (!prev)\n",
      "double free or corruption (out)\n"
     ]
    },
    {
     "name": "stdout",
     "output_type": "stream",
     "text": [
      " ./data/incremental/uniforme50/uniforme50_0.txt ./data/incremental/uniforme50/uniforme50_1.txt ./data/incremental/uniforme50/uniforme50_10.txt ./data/incremental/uniforme50/uniforme50_11.txt ./data/incremental/uniforme50/uniforme50_12.txt ./data/incremental/uniforme50/uniforme50_13.txt ./data/incremental/uniforme50/uniforme50_14.txt ./data/incremental/uniforme50/uniforme50_15.txt ./data/incremental/uniforme50/uniforme50_16.txt ./data/incremental/uniforme50/uniforme50_17.txt ./data/incremental/uniforme50/uniforme50_18.txt ./data/incremental/uniforme50/uniforme50_19.txt ./data/incremental/uniforme50/uniforme50_2.txt ./data/incremental/uniforme50/uniforme50_20.txt ./data/incremental/uniforme50/uniforme50_21.txt ./data/incremental/uniforme50/uniforme50_22.txt ./data/incremental/uniforme50/uniforme50_23.txt ./data/incremental/uniforme50/uniforme50_24.txt ./data/incremental/uniforme50/uniforme50_25.txt ./data/incremental/uniforme50/uniforme50_3.txt ./data/incremental/uniforme50/uniforme50_4.txt ./data/incremental/uniforme50/uniforme50_5.txt ./data/incremental/uniforme50/uniforme50_6.txt ./data/incremental/uniforme50/uniforme50_7.txt ./data/incremental/uniforme50/uniforme50_8.txt ./data/incremental/uniforme50/uniforme50_9.txt\n"
     ]
    },
    {
     "name": "stderr",
     "output_type": "stream",
     "text": [
      "double free or corruption (out)\n",
      "double free or corruption (out)\n",
      "double free or corruption (!prev)\n",
      "double free or corruption (out)\n",
      "double free or corruption (out)\n"
     ]
    },
    {
     "name": "stdout",
     "output_type": "stream",
     "text": [
      " ./data/incremental/uniforme50/uniforme50_0.txt ./data/incremental/uniforme50/uniforme50_1.txt ./data/incremental/uniforme50/uniforme50_10.txt ./data/incremental/uniforme50/uniforme50_11.txt ./data/incremental/uniforme50/uniforme50_12.txt ./data/incremental/uniforme50/uniforme50_13.txt ./data/incremental/uniforme50/uniforme50_14.txt ./data/incremental/uniforme50/uniforme50_15.txt ./data/incremental/uniforme50/uniforme50_16.txt ./data/incremental/uniforme50/uniforme50_17.txt ./data/incremental/uniforme50/uniforme50_18.txt ./data/incremental/uniforme50/uniforme50_19.txt ./data/incremental/uniforme50/uniforme50_2.txt ./data/incremental/uniforme50/uniforme50_20.txt ./data/incremental/uniforme50/uniforme50_21.txt ./data/incremental/uniforme50/uniforme50_22.txt ./data/incremental/uniforme50/uniforme50_23.txt ./data/incremental/uniforme50/uniforme50_24.txt ./data/incremental/uniforme50/uniforme50_25.txt ./data/incremental/uniforme50/uniforme50_3.txt ./data/incremental/uniforme50/uniforme50_4.txt ./data/incremental/uniforme50/uniforme50_5.txt ./data/incremental/uniforme50/uniforme50_6.txt ./data/incremental/uniforme50/uniforme50_7.txt ./data/incremental/uniforme50/uniforme50_8.txt ./data/incremental/uniforme50/uniforme50_9.txt\n"
     ]
    },
    {
     "name": "stderr",
     "output_type": "stream",
     "text": [
      "double free or corruption (!prev)\n",
      "double free or corruption (out)\n",
      "double free or corruption (out)\n",
      "double free or corruption (!prev)\n",
      "double free or corruption (out)\n",
      "double free or corruption (out)\n"
     ]
    },
    {
     "name": "stdout",
     "output_type": "stream",
     "text": [
      " ./data/incremental/uniforme50/uniforme50_0.txt ./data/incremental/uniforme50/uniforme50_1.txt ./data/incremental/uniforme50/uniforme50_10.txt ./data/incremental/uniforme50/uniforme50_11.txt ./data/incremental/uniforme50/uniforme50_12.txt ./data/incremental/uniforme50/uniforme50_13.txt ./data/incremental/uniforme50/uniforme50_14.txt ./data/incremental/uniforme50/uniforme50_15.txt ./data/incremental/uniforme50/uniforme50_16.txt ./data/incremental/uniforme50/uniforme50_17.txt ./data/incremental/uniforme50/uniforme50_18.txt ./data/incremental/uniforme50/uniforme50_19.txt ./data/incremental/uniforme50/uniforme50_2.txt ./data/incremental/uniforme50/uniforme50_20.txt ./data/incremental/uniforme50/uniforme50_21.txt ./data/incremental/uniforme50/uniforme50_22.txt ./data/incremental/uniforme50/uniforme50_23.txt ./data/incremental/uniforme50/uniforme50_24.txt ./data/incremental/uniforme50/uniforme50_25.txt ./data/incremental/uniforme50/uniforme50_3.txt ./data/incremental/uniforme50/uniforme50_4.txt ./data/incremental/uniforme50/uniforme50_5.txt ./data/incremental/uniforme50/uniforme50_6.txt ./data/incremental/uniforme50/uniforme50_7.txt ./data/incremental/uniforme50/uniforme50_8.txt ./data/incremental/uniforme50/uniforme50_9.txt\n"
     ]
    },
    {
     "name": "stderr",
     "output_type": "stream",
     "text": [
      "double free or corruption (!prev)\n",
      "double free or corruption (out)\n",
      "double free or corruption (!prev)\n",
      "double free or corruption (out)\n",
      "double free or corruption (out)\n",
      "ContarPalabras: malloc.c:2617: sysmalloc: Assertion `(old_top == initial_top (av) && old_size == 0) || ((unsigned long) (old_size) >= MINSIZE && prev_inuse (old_top) && ((unsigned long) old_end & (pagesize - 1)) == 0)' failed.\n",
      "double free or corruption (out)\n",
      "double free or corruption (out)\n"
     ]
    },
    {
     "name": "stdout",
     "output_type": "stream",
     "text": [
      " ./data/incremental/uniforme50/uniforme50_0.txt ./data/incremental/uniforme50/uniforme50_1.txt ./data/incremental/uniforme50/uniforme50_10.txt ./data/incremental/uniforme50/uniforme50_11.txt ./data/incremental/uniforme50/uniforme50_12.txt ./data/incremental/uniforme50/uniforme50_13.txt ./data/incremental/uniforme50/uniforme50_14.txt ./data/incremental/uniforme50/uniforme50_15.txt ./data/incremental/uniforme50/uniforme50_16.txt ./data/incremental/uniforme50/uniforme50_17.txt ./data/incremental/uniforme50/uniforme50_18.txt ./data/incremental/uniforme50/uniforme50_19.txt ./data/incremental/uniforme50/uniforme50_2.txt ./data/incremental/uniforme50/uniforme50_20.txt ./data/incremental/uniforme50/uniforme50_21.txt ./data/incremental/uniforme50/uniforme50_22.txt ./data/incremental/uniforme50/uniforme50_23.txt ./data/incremental/uniforme50/uniforme50_24.txt ./data/incremental/uniforme50/uniforme50_25.txt ./data/incremental/uniforme50/uniforme50_3.txt ./data/incremental/uniforme50/uniforme50_4.txt ./data/incremental/uniforme50/uniforme50_5.txt ./data/incremental/uniforme50/uniforme50_6.txt ./data/incremental/uniforme50/uniforme50_7.txt ./data/incremental/uniforme50/uniforme50_8.txt ./data/incremental/uniforme50/uniforme50_9.txt\n"
     ]
    },
    {
     "name": "stderr",
     "output_type": "stream",
     "text": [
      "double free or corruption (out)\n",
      "double free or corruption (out)\n",
      "double free or corruption (out)\n",
      "double free or corruption (out)\n",
      "ContarPalabras: malloc.c:2617: sysmalloc: Assertion `(old_top == initial_top (av) && old_size == 0) || ((unsigned long) (old_size) >= MINSIZE && prev_inuse (old_top) && ((unsigned long) old_end & (pagesize - 1)) == 0)' failed.\n"
     ]
    },
    {
     "name": "stdout",
     "output_type": "stream",
     "text": [
      " ./data/incremental/uniforme50/uniforme50_0.txt ./data/incremental/uniforme50/uniforme50_1.txt ./data/incremental/uniforme50/uniforme50_10.txt ./data/incremental/uniforme50/uniforme50_11.txt ./data/incremental/uniforme50/uniforme50_12.txt ./data/incremental/uniforme50/uniforme50_13.txt ./data/incremental/uniforme50/uniforme50_14.txt ./data/incremental/uniforme50/uniforme50_15.txt ./data/incremental/uniforme50/uniforme50_16.txt ./data/incremental/uniforme50/uniforme50_17.txt ./data/incremental/uniforme50/uniforme50_18.txt ./data/incremental/uniforme50/uniforme50_19.txt ./data/incremental/uniforme50/uniforme50_2.txt ./data/incremental/uniforme50/uniforme50_20.txt ./data/incremental/uniforme50/uniforme50_21.txt ./data/incremental/uniforme50/uniforme50_22.txt ./data/incremental/uniforme50/uniforme50_23.txt ./data/incremental/uniforme50/uniforme50_24.txt ./data/incremental/uniforme50/uniforme50_25.txt ./data/incremental/uniforme50/uniforme50_3.txt ./data/incremental/uniforme50/uniforme50_4.txt ./data/incremental/uniforme50/uniforme50_5.txt ./data/incremental/uniforme50/uniforme50_6.txt ./data/incremental/uniforme50/uniforme50_7.txt ./data/incremental/uniforme50/uniforme50_8.txt ./data/incremental/uniforme50/uniforme50_9.txt\n"
     ]
    },
    {
     "name": "stderr",
     "output_type": "stream",
     "text": [
      "double free or corruption (out)\n",
      "double free or corruption (out)\n",
      "double free or corruption (out)\n",
      "ContarPalabras: malloc.c:2617: sysmalloc: Assertion `(old_top == initial_top (av) && old_size == 0) || ((unsigned long) (old_size) >= MINSIZE && prev_inuse (old_top) && ((unsigned long) old_end & (pagesize - 1)) == 0)' failed.\n",
      "double free or corruption (out)\n",
      "double free or corruption (!prev)\n",
      "double free or corruption (out)\n"
     ]
    },
    {
     "name": "stdout",
     "output_type": "stream",
     "text": [
      " ./data/incremental/uniforme50/uniforme50_0.txt ./data/incremental/uniforme50/uniforme50_1.txt ./data/incremental/uniforme50/uniforme50_10.txt ./data/incremental/uniforme50/uniforme50_11.txt ./data/incremental/uniforme50/uniforme50_12.txt ./data/incremental/uniforme50/uniforme50_13.txt ./data/incremental/uniforme50/uniforme50_14.txt ./data/incremental/uniforme50/uniforme50_15.txt ./data/incremental/uniforme50/uniforme50_16.txt ./data/incremental/uniforme50/uniforme50_17.txt ./data/incremental/uniforme50/uniforme50_18.txt ./data/incremental/uniforme50/uniforme50_19.txt ./data/incremental/uniforme50/uniforme50_2.txt ./data/incremental/uniforme50/uniforme50_20.txt ./data/incremental/uniforme50/uniforme50_21.txt ./data/incremental/uniforme50/uniforme50_22.txt ./data/incremental/uniforme50/uniforme50_23.txt ./data/incremental/uniforme50/uniforme50_24.txt ./data/incremental/uniforme50/uniforme50_25.txt ./data/incremental/uniforme50/uniforme50_3.txt ./data/incremental/uniforme50/uniforme50_4.txt ./data/incremental/uniforme50/uniforme50_5.txt ./data/incremental/uniforme50/uniforme50_6.txt ./data/incremental/uniforme50/uniforme50_7.txt ./data/incremental/uniforme50/uniforme50_8.txt ./data/incremental/uniforme50/uniforme50_9.txt\n"
     ]
    },
    {
     "name": "stderr",
     "output_type": "stream",
     "text": [
      "double free or corruption (out)\n",
      "double free or corruption (out)\n",
      "double free or corruption (out)\n",
      "double free or corruption (out)\n",
      "double free or corruption (out)\n",
      "double free or corruption (out)\n"
     ]
    },
    {
     "name": "stdout",
     "output_type": "stream",
     "text": [
      " ./data/incremental/uniforme50/uniforme50_0.txt ./data/incremental/uniforme50/uniforme50_1.txt ./data/incremental/uniforme50/uniforme50_10.txt ./data/incremental/uniforme50/uniforme50_11.txt ./data/incremental/uniforme50/uniforme50_12.txt ./data/incremental/uniforme50/uniforme50_13.txt ./data/incremental/uniforme50/uniforme50_14.txt ./data/incremental/uniforme50/uniforme50_15.txt ./data/incremental/uniforme50/uniforme50_16.txt ./data/incremental/uniforme50/uniforme50_17.txt ./data/incremental/uniforme50/uniforme50_18.txt ./data/incremental/uniforme50/uniforme50_19.txt ./data/incremental/uniforme50/uniforme50_2.txt ./data/incremental/uniforme50/uniforme50_20.txt ./data/incremental/uniforme50/uniforme50_21.txt ./data/incremental/uniforme50/uniforme50_22.txt ./data/incremental/uniforme50/uniforme50_23.txt ./data/incremental/uniforme50/uniforme50_24.txt ./data/incremental/uniforme50/uniforme50_25.txt ./data/incremental/uniforme50/uniforme50_3.txt ./data/incremental/uniforme50/uniforme50_4.txt ./data/incremental/uniforme50/uniforme50_5.txt ./data/incremental/uniforme50/uniforme50_6.txt ./data/incremental/uniforme50/uniforme50_7.txt ./data/incremental/uniforme50/uniforme50_8.txt ./data/incremental/uniforme50/uniforme50_9.txt\n"
     ]
    },
    {
     "name": "stderr",
     "output_type": "stream",
     "text": [
      "double free or corruption (out)\n",
      "double free or corruption (out)\n",
      "double free or corruption (out)\n",
      "double free or corruption (out)\n",
      "double free or corruption (out)\n",
      "ContarPalabras: malloc.c:2617: sysmalloc: Assertion `(old_top == initial_top (av) && old_size == 0) || ((unsigned long) (old_size) >= MINSIZE && prev_inuse (old_top) && ((unsigned long) old_end & (pagesize - 1)) == 0)' failed.\n"
     ]
    },
    {
     "name": "stdout",
     "output_type": "stream",
     "text": [
      " ./data/incremental/uniforme50/uniforme50_0.txt ./data/incremental/uniforme50/uniforme50_1.txt ./data/incremental/uniforme50/uniforme50_10.txt ./data/incremental/uniforme50/uniforme50_11.txt ./data/incremental/uniforme50/uniforme50_12.txt ./data/incremental/uniforme50/uniforme50_13.txt ./data/incremental/uniforme50/uniforme50_14.txt ./data/incremental/uniforme50/uniforme50_15.txt ./data/incremental/uniforme50/uniforme50_16.txt ./data/incremental/uniforme50/uniforme50_17.txt ./data/incremental/uniforme50/uniforme50_18.txt ./data/incremental/uniforme50/uniforme50_19.txt ./data/incremental/uniforme50/uniforme50_2.txt ./data/incremental/uniforme50/uniforme50_20.txt ./data/incremental/uniforme50/uniforme50_21.txt ./data/incremental/uniforme50/uniforme50_22.txt ./data/incremental/uniforme50/uniforme50_23.txt ./data/incremental/uniforme50/uniforme50_24.txt ./data/incremental/uniforme50/uniforme50_25.txt ./data/incremental/uniforme50/uniforme50_3.txt ./data/incremental/uniforme50/uniforme50_4.txt ./data/incremental/uniforme50/uniforme50_5.txt ./data/incremental/uniforme50/uniforme50_6.txt ./data/incremental/uniforme50/uniforme50_7.txt ./data/incremental/uniforme50/uniforme50_8.txt ./data/incremental/uniforme50/uniforme50_9.txt\n"
     ]
    },
    {
     "name": "stderr",
     "output_type": "stream",
     "text": [
      "double free or corruption (out)\n",
      "double free or corruption (out)\n",
      "double free or corruption (out)\n",
      "double free or corruption (out)\n",
      "double free or corruption (out)\n",
      "free(): corrupted unsorted chunks\n"
     ]
    },
    {
     "name": "stdout",
     "output_type": "stream",
     "text": [
      " ./data/incremental/uniforme50/uniforme50_0.txt ./data/incremental/uniforme50/uniforme50_1.txt ./data/incremental/uniforme50/uniforme50_10.txt ./data/incremental/uniforme50/uniforme50_11.txt ./data/incremental/uniforme50/uniforme50_12.txt ./data/incremental/uniforme50/uniforme50_13.txt ./data/incremental/uniforme50/uniforme50_14.txt ./data/incremental/uniforme50/uniforme50_15.txt ./data/incremental/uniforme50/uniforme50_16.txt ./data/incremental/uniforme50/uniforme50_17.txt ./data/incremental/uniforme50/uniforme50_18.txt ./data/incremental/uniforme50/uniforme50_19.txt ./data/incremental/uniforme50/uniforme50_2.txt ./data/incremental/uniforme50/uniforme50_20.txt ./data/incremental/uniforme50/uniforme50_21.txt ./data/incremental/uniforme50/uniforme50_22.txt ./data/incremental/uniforme50/uniforme50_23.txt ./data/incremental/uniforme50/uniforme50_24.txt ./data/incremental/uniforme50/uniforme50_25.txt ./data/incremental/uniforme50/uniforme50_3.txt ./data/incremental/uniforme50/uniforme50_4.txt ./data/incremental/uniforme50/uniforme50_5.txt ./data/incremental/uniforme50/uniforme50_6.txt ./data/incremental/uniforme50/uniforme50_7.txt ./data/incremental/uniforme50/uniforme50_8.txt ./data/incremental/uniforme50/uniforme50_9.txt\n"
     ]
    },
    {
     "name": "stderr",
     "output_type": "stream",
     "text": [
      "double free or corruption (out)\n",
      "double free or corruption (out)\n",
      "double free or corruption (out)\n",
      "double free or corruption (out)\n"
     ]
    },
    {
     "name": "stdout",
     "output_type": "stream",
     "text": [
      " ./data/incremental/uniforme50/uniforme50_0.txt ./data/incremental/uniforme50/uniforme50_1.txt ./data/incremental/uniforme50/uniforme50_10.txt ./data/incremental/uniforme50/uniforme50_11.txt ./data/incremental/uniforme50/uniforme50_12.txt ./data/incremental/uniforme50/uniforme50_13.txt ./data/incremental/uniforme50/uniforme50_14.txt ./data/incremental/uniforme50/uniforme50_15.txt ./data/incremental/uniforme50/uniforme50_16.txt ./data/incremental/uniforme50/uniforme50_17.txt ./data/incremental/uniforme50/uniforme50_18.txt ./data/incremental/uniforme50/uniforme50_19.txt ./data/incremental/uniforme50/uniforme50_2.txt ./data/incremental/uniforme50/uniforme50_20.txt ./data/incremental/uniforme50/uniforme50_21.txt ./data/incremental/uniforme50/uniforme50_22.txt ./data/incremental/uniforme50/uniforme50_23.txt ./data/incremental/uniforme50/uniforme50_24.txt ./data/incremental/uniforme50/uniforme50_25.txt ./data/incremental/uniforme50/uniforme50_3.txt ./data/incremental/uniforme50/uniforme50_4.txt ./data/incremental/uniforme50/uniforme50_5.txt ./data/incremental/uniforme50/uniforme50_6.txt ./data/incremental/uniforme50/uniforme50_7.txt ./data/incremental/uniforme50/uniforme50_8.txt ./data/incremental/uniforme50/uniforme50_9.txt\n"
     ]
    },
    {
     "name": "stderr",
     "output_type": "stream",
     "text": [
      "double free or corruption (out)\n",
      "double free or corruption (out)\n",
      "double free or corruption (out)\n",
      "double free or corruption (!prev)\n",
      "double free or corruption (out)\n",
      "ContarPalabras: malloc.c:2617: sysmalloc: Assertion `(old_top == initial_top (av) && old_size == 0) || ((unsigned long) (old_size) >= MINSIZE && prev_inuse (old_top) && ((unsigned long) old_end & (pagesize - 1)) == 0)' failed.\n",
      "double free or corruption (out)\n"
     ]
    },
    {
     "name": "stdout",
     "output_type": "stream",
     "text": [
      " ./data/incremental/uniforme50/uniforme50_0.txt ./data/incremental/uniforme50/uniforme50_1.txt ./data/incremental/uniforme50/uniforme50_10.txt ./data/incremental/uniforme50/uniforme50_11.txt ./data/incremental/uniforme50/uniforme50_12.txt ./data/incremental/uniforme50/uniforme50_13.txt ./data/incremental/uniforme50/uniforme50_14.txt ./data/incremental/uniforme50/uniforme50_15.txt ./data/incremental/uniforme50/uniforme50_16.txt ./data/incremental/uniforme50/uniforme50_17.txt ./data/incremental/uniforme50/uniforme50_18.txt ./data/incremental/uniforme50/uniforme50_19.txt ./data/incremental/uniforme50/uniforme50_2.txt ./data/incremental/uniforme50/uniforme50_20.txt ./data/incremental/uniforme50/uniforme50_21.txt ./data/incremental/uniforme50/uniforme50_22.txt ./data/incremental/uniforme50/uniforme50_23.txt ./data/incremental/uniforme50/uniforme50_24.txt ./data/incremental/uniforme50/uniforme50_25.txt ./data/incremental/uniforme50/uniforme50_3.txt ./data/incremental/uniforme50/uniforme50_4.txt ./data/incremental/uniforme50/uniforme50_5.txt ./data/incremental/uniforme50/uniforme50_6.txt ./data/incremental/uniforme50/uniforme50_7.txt ./data/incremental/uniforme50/uniforme50_8.txt ./data/incremental/uniforme50/uniforme50_9.txt\n"
     ]
    },
    {
     "name": "stderr",
     "output_type": "stream",
     "text": [
      "double free or corruption (out)\n",
      "double free or corruption (out)\n",
      "malloc(): unsorted double linked list corrupted\n",
      "double free or corruption (!prev)\n",
      "double free or corruption (out)\n",
      "free(): invalid pointer\n",
      "free(): invalid pointer\n",
      "free(): invalid pointer\n",
      "free(): invalid pointer\n"
     ]
    },
    {
     "name": "stdout",
     "output_type": "stream",
     "text": [
      " ./data/incremental/uniforme50/uniforme50_0.txt ./data/incremental/uniforme50/uniforme50_1.txt ./data/incremental/uniforme50/uniforme50_10.txt ./data/incremental/uniforme50/uniforme50_11.txt ./data/incremental/uniforme50/uniforme50_12.txt ./data/incremental/uniforme50/uniforme50_13.txt ./data/incremental/uniforme50/uniforme50_14.txt ./data/incremental/uniforme50/uniforme50_15.txt ./data/incremental/uniforme50/uniforme50_16.txt ./data/incremental/uniforme50/uniforme50_17.txt ./data/incremental/uniforme50/uniforme50_18.txt ./data/incremental/uniforme50/uniforme50_19.txt ./data/incremental/uniforme50/uniforme50_2.txt ./data/incremental/uniforme50/uniforme50_20.txt ./data/incremental/uniforme50/uniforme50_21.txt ./data/incremental/uniforme50/uniforme50_22.txt ./data/incremental/uniforme50/uniforme50_23.txt ./data/incremental/uniforme50/uniforme50_24.txt ./data/incremental/uniforme50/uniforme50_25.txt ./data/incremental/uniforme50/uniforme50_3.txt ./data/incremental/uniforme50/uniforme50_4.txt ./data/incremental/uniforme50/uniforme50_5.txt ./data/incremental/uniforme50/uniforme50_6.txt ./data/incremental/uniforme50/uniforme50_7.txt ./data/incremental/uniforme50/uniforme50_8.txt ./data/incremental/uniforme50/uniforme50_9.txt\n"
     ]
    },
    {
     "name": "stderr",
     "output_type": "stream",
     "text": [
      "double free or corruption (out)\n",
      "double free or corruption (out)\n",
      "double free or corruption (!prev)\n",
      "double free or corruption (!prev)\n",
      "double free or corruption (out)\n",
      "double free or corruption (out)\n",
      "ContarPalabras: malloc.c:2617: sysmalloc: Assertion `(old_top == initial_top (av) && old_size == 0) || ((unsigned long) (old_size) >= MINSIZE && prev_inuse (old_top) && ((unsigned long) old_end & (pagesize - 1)) == 0)' failed.\n",
      "double free or corruption (!prev)\n"
     ]
    },
    {
     "name": "stdout",
     "output_type": "stream",
     "text": [
      " ./data/incremental/uniforme50/uniforme50_0.txt ./data/incremental/uniforme50/uniforme50_1.txt ./data/incremental/uniforme50/uniforme50_10.txt ./data/incremental/uniforme50/uniforme50_11.txt ./data/incremental/uniforme50/uniforme50_12.txt ./data/incremental/uniforme50/uniforme50_13.txt ./data/incremental/uniforme50/uniforme50_14.txt ./data/incremental/uniforme50/uniforme50_15.txt ./data/incremental/uniforme50/uniforme50_16.txt ./data/incremental/uniforme50/uniforme50_17.txt ./data/incremental/uniforme50/uniforme50_18.txt ./data/incremental/uniforme50/uniforme50_19.txt ./data/incremental/uniforme50/uniforme50_2.txt ./data/incremental/uniforme50/uniforme50_20.txt ./data/incremental/uniforme50/uniforme50_21.txt ./data/incremental/uniforme50/uniforme50_22.txt ./data/incremental/uniforme50/uniforme50_23.txt ./data/incremental/uniforme50/uniforme50_24.txt ./data/incremental/uniforme50/uniforme50_25.txt ./data/incremental/uniforme50/uniforme50_3.txt ./data/incremental/uniforme50/uniforme50_4.txt ./data/incremental/uniforme50/uniforme50_5.txt ./data/incremental/uniforme50/uniforme50_6.txt ./data/incremental/uniforme50/uniforme50_7.txt ./data/incremental/uniforme50/uniforme50_8.txt ./data/incremental/uniforme50/uniforme50_9.txt\n"
     ]
    },
    {
     "name": "stderr",
     "output_type": "stream",
     "text": [
      "double free or corruption (out)\n",
      "double free or corruption (out)\n",
      "double free or corruption (!prev)\n",
      "double free or corruption (out)\n",
      "double free or corruption (out)\n",
      "double free or corruption (out)\n"
     ]
    },
    {
     "name": "stdout",
     "output_type": "stream",
     "text": [
      " ./data/incremental/uniforme50/uniforme50_0.txt ./data/incremental/uniforme50/uniforme50_1.txt ./data/incremental/uniforme50/uniforme50_10.txt ./data/incremental/uniforme50/uniforme50_11.txt ./data/incremental/uniforme50/uniforme50_12.txt ./data/incremental/uniforme50/uniforme50_13.txt ./data/incremental/uniforme50/uniforme50_14.txt ./data/incremental/uniforme50/uniforme50_15.txt ./data/incremental/uniforme50/uniforme50_16.txt ./data/incremental/uniforme50/uniforme50_17.txt ./data/incremental/uniforme50/uniforme50_18.txt ./data/incremental/uniforme50/uniforme50_19.txt ./data/incremental/uniforme50/uniforme50_2.txt ./data/incremental/uniforme50/uniforme50_20.txt ./data/incremental/uniforme50/uniforme50_21.txt ./data/incremental/uniforme50/uniforme50_22.txt ./data/incremental/uniforme50/uniforme50_23.txt ./data/incremental/uniforme50/uniforme50_24.txt ./data/incremental/uniforme50/uniforme50_25.txt ./data/incremental/uniforme50/uniforme50_3.txt ./data/incremental/uniforme50/uniforme50_4.txt ./data/incremental/uniforme50/uniforme50_5.txt ./data/incremental/uniforme50/uniforme50_6.txt ./data/incremental/uniforme50/uniforme50_7.txt ./data/incremental/uniforme50/uniforme50_8.txt ./data/incremental/uniforme50/uniforme50_9.txt\n"
     ]
    },
    {
     "name": "stderr",
     "output_type": "stream",
     "text": [
      "double free or corruption (!prev)\n",
      "double free or corruption (out)\n",
      "malloc(): unsorted double linked list corrupted\n",
      "ContarPalabras: malloc.c:2617: sysmalloc: Assertion `(old_top == initial_top (av) && old_size == 0) || ((unsigned long) (old_size) >= MINSIZE && prev_inuse (old_top) && ((unsigned long) old_end & (pagesize - 1)) == 0)' failed.\n",
      "double free or corruption (out)\n"
     ]
    },
    {
     "name": "stdout",
     "output_type": "stream",
     "text": [
      " ./data/incremental/uniforme50/uniforme50_0.txt ./data/incremental/uniforme50/uniforme50_1.txt ./data/incremental/uniforme50/uniforme50_10.txt ./data/incremental/uniforme50/uniforme50_11.txt ./data/incremental/uniforme50/uniforme50_12.txt ./data/incremental/uniforme50/uniforme50_13.txt ./data/incremental/uniforme50/uniforme50_14.txt ./data/incremental/uniforme50/uniforme50_15.txt ./data/incremental/uniforme50/uniforme50_16.txt ./data/incremental/uniforme50/uniforme50_17.txt ./data/incremental/uniforme50/uniforme50_18.txt ./data/incremental/uniforme50/uniforme50_19.txt ./data/incremental/uniforme50/uniforme50_2.txt ./data/incremental/uniforme50/uniforme50_20.txt ./data/incremental/uniforme50/uniforme50_21.txt ./data/incremental/uniforme50/uniforme50_22.txt ./data/incremental/uniforme50/uniforme50_23.txt ./data/incremental/uniforme50/uniforme50_24.txt ./data/incremental/uniforme50/uniforme50_25.txt ./data/incremental/uniforme50/uniforme50_3.txt ./data/incremental/uniforme50/uniforme50_4.txt ./data/incremental/uniforme50/uniforme50_5.txt ./data/incremental/uniforme50/uniforme50_6.txt ./data/incremental/uniforme50/uniforme50_7.txt ./data/incremental/uniforme50/uniforme50_8.txt ./data/incremental/uniforme50/uniforme50_9.txt\n"
     ]
    },
    {
     "name": "stderr",
     "output_type": "stream",
     "text": [
      "double free or corruption (out)\n",
      "double free or corruption (out)\n",
      "ContarPalabras: malloc.c:2617: sysmalloc: Assertion `(old_top == initial_top (av) && old_size == 0) || ((unsigned long) (old_size) >= MINSIZE && prev_inuse (old_top) && ((unsigned long) old_end & (pagesize - 1)) == 0)' failed.\n",
      "ContarPalabras: malloc.c:2617: sysmalloc: Assertion `(old_top == initial_top (av) && old_size == 0) || ((unsigned long) (old_size) >= MINSIZE && prev_inuse (old_top) && ((unsigned long) old_end & (pagesize - 1)) == 0)' failed.\n",
      "double free or corruption (out)\n",
      "double free or corruption (!prev)\n"
     ]
    },
    {
     "name": "stdout",
     "output_type": "stream",
     "text": [
      " ./data/incremental/uniforme50/uniforme50_0.txt ./data/incremental/uniforme50/uniforme50_1.txt ./data/incremental/uniforme50/uniforme50_10.txt ./data/incremental/uniforme50/uniforme50_11.txt ./data/incremental/uniforme50/uniforme50_12.txt ./data/incremental/uniforme50/uniforme50_13.txt ./data/incremental/uniforme50/uniforme50_14.txt ./data/incremental/uniforme50/uniforme50_15.txt ./data/incremental/uniforme50/uniforme50_16.txt ./data/incremental/uniforme50/uniforme50_17.txt ./data/incremental/uniforme50/uniforme50_18.txt ./data/incremental/uniforme50/uniforme50_19.txt ./data/incremental/uniforme50/uniforme50_2.txt ./data/incremental/uniforme50/uniforme50_20.txt ./data/incremental/uniforme50/uniforme50_21.txt ./data/incremental/uniforme50/uniforme50_22.txt ./data/incremental/uniforme50/uniforme50_23.txt ./data/incremental/uniforme50/uniforme50_24.txt ./data/incremental/uniforme50/uniforme50_25.txt ./data/incremental/uniforme50/uniforme50_3.txt ./data/incremental/uniforme50/uniforme50_4.txt ./data/incremental/uniforme50/uniforme50_5.txt ./data/incremental/uniforme50/uniforme50_6.txt ./data/incremental/uniforme50/uniforme50_7.txt ./data/incremental/uniforme50/uniforme50_8.txt ./data/incremental/uniforme50/uniforme50_9.txt\n"
     ]
    },
    {
     "name": "stderr",
     "output_type": "stream",
     "text": [
      "double free or corruption (out)\n",
      "double free or corruption (out)\n",
      "double free or corruption (!prev)\n",
      "double free or corruption (!prev)\n",
      "double free or corruption (out)\n"
     ]
    },
    {
     "name": "stdout",
     "output_type": "stream",
     "text": [
      " ./data/incremental/uniforme50/uniforme50_0.txt ./data/incremental/uniforme50/uniforme50_1.txt ./data/incremental/uniforme50/uniforme50_10.txt ./data/incremental/uniforme50/uniforme50_11.txt ./data/incremental/uniforme50/uniforme50_12.txt ./data/incremental/uniforme50/uniforme50_13.txt ./data/incremental/uniforme50/uniforme50_14.txt ./data/incremental/uniforme50/uniforme50_15.txt ./data/incremental/uniforme50/uniforme50_16.txt ./data/incremental/uniforme50/uniforme50_17.txt ./data/incremental/uniforme50/uniforme50_18.txt ./data/incremental/uniforme50/uniforme50_19.txt ./data/incremental/uniforme50/uniforme50_2.txt ./data/incremental/uniforme50/uniforme50_20.txt ./data/incremental/uniforme50/uniforme50_21.txt ./data/incremental/uniforme50/uniforme50_22.txt ./data/incremental/uniforme50/uniforme50_23.txt ./data/incremental/uniforme50/uniforme50_24.txt ./data/incremental/uniforme50/uniforme50_25.txt ./data/incremental/uniforme50/uniforme50_3.txt ./data/incremental/uniforme50/uniforme50_4.txt ./data/incremental/uniforme50/uniforme50_5.txt ./data/incremental/uniforme50/uniforme50_6.txt ./data/incremental/uniforme50/uniforme50_7.txt ./data/incremental/uniforme50/uniforme50_8.txt ./data/incremental/uniforme50/uniforme50_9.txt\n"
     ]
    },
    {
     "name": "stderr",
     "output_type": "stream",
     "text": [
      "double free or corruption (out)\n",
      "double free or corruption (out)\n",
      "double free or corruption (!prev)\n",
      "double free or corruption (out)\n",
      "double free or corruption (out)\n",
      "double free or corruption (out)\n"
     ]
    },
    {
     "name": "stdout",
     "output_type": "stream",
     "text": [
      "   cantThreads  sec       ns                algorithm\n",
      "0            1    0  3863170  cargarMultiplesArchivos\n",
      "1            1    0    66063           maximoParalelo\n",
      "0            1    0  2124535  cargarMultiplesArchivos\n",
      "1            1    0    67711           maximoParalelo\n",
      "0            1    0  2512862  cargarMultiplesArchivos\n",
      "1            1    0   100785           maximoParalelo\n",
      "0            1    0  1974722  cargarMultiplesArchivos\n",
      "1            1    0    51843           maximoParalelo\n",
      "0            1    0  2063228  cargarMultiplesArchivos\n",
      "1            1    0    92245           maximoParalelo\n",
      "0            1    0  1956376  cargarMultiplesArchivos\n",
      "1            1    0   103163           maximoParalelo\n",
      "0            1    0  1905750  cargarMultiplesArchivos\n",
      "1            1    0    41348           maximoParalelo\n",
      "0            1    0  2198916  cargarMultiplesArchivos\n",
      "1            1    0    68973           maximoParalelo\n",
      "0            1    0  1898432  cargarMultiplesArchivos\n",
      "1            1    0    71726           maximoParalelo\n",
      "0            1    0  2080937  cargarMultiplesArchivos\n",
      "1            1    0    58444           maximoParalelo\n",
      "0            1    0  2055160  cargarMultiplesArchivos\n",
      "1            1    0    77092           maximoParalelo\n",
      "0            1    0  2077596  cargarMultiplesArchivos\n",
      "1            1    0    77858           maximoParalelo\n",
      "0            1    0  1978287  cargarMultiplesArchivos\n",
      "1            1    0    74590           maximoParalelo\n",
      "0            1    0  2504655  cargarMultiplesArchivos\n",
      "1            1    0    53696           maximoParalelo\n",
      "0            1    0  2532320  cargarMultiplesArchivos\n",
      "1            1    0   109978           maximoParalelo\n",
      "0            1    0  2187997  cargarMultiplesArchivos\n",
      "1            1    0    74297           maximoParalelo\n",
      "0            1    0  2160659  cargarMultiplesArchivos\n",
      "1            1    0    53799           maximoParalelo\n",
      "0            1    0  2664108  cargarMultiplesArchivos\n",
      "1            1    0   107707           maximoParalelo\n",
      "0            1    0  2347347  cargarMultiplesArchivos\n",
      "1            1    0   118863           maximoParalelo\n",
      "2            2    0   973465  cargarMultiplesArchivos\n",
      "3            2    0    60602           maximoParalelo\n",
      "0            1    0  2360082  cargarMultiplesArchivos\n",
      "1            1    0    77268           maximoParalelo\n",
      "   cantThreads                algorithm  sec          ns      time\n",
      "0            1  cargarMultiplesArchivos  0.0  2272356.95  2.272357\n",
      "1            1           maximoParalelo  0.0    77372.45  0.077372\n",
      "2            2  cargarMultiplesArchivos  0.0   973465.00  0.973465\n",
      "3            2           maximoParalelo  0.0    60602.00  0.060602\n"
     ]
    },
    {
     "data": {
      "image/png": "[encoded data removed]",
      "text/plain": [
       "<Figure size 432x288 with 1 Axes>"
      ]
     },
     "metadata": {
      "needs_background": "light"
     },
     "output_type": "display_data"
    }
   ],
   "source": [
    "threads = [1,2,3,4,5,6,7,8]\n",
    "columns = ['cantThreads', 'sec', 'ns', 'algorithm']\n",
    "\n",
    "df = pd.DataFrame(columns = columns)\n",
    "dataframes = []\n",
    "\n",
    "for repeat in range(20):\n",
    "    #create output file\n",
    "    result = './results/uniforme.csv'\n",
    "    outputFile = open(result, 'w+')\n",
    "    outputFile.write(\"cantThreads,sec,ns,algorithm\\n\")\n",
    "    \n",
    "    args = \"\"\n",
    "    for file in os.listdir(\"./data/incremental/uniforme50\"):\n",
    "            args += \" ./data/incremental/uniforme50/\" + file\n",
    "    \n",
    "    print (args)\n",
    "    for cantThreads in threads:\n",
    "        command = executablePath + \" %s %s %s\" % (cantThreads, cantThreads, args)\n",
    "        p = subprocess.Popen(command, shell=True, stdout=subprocess.PIPE)\n",
    "        p.wait()\n",
    "        \n",
    "        output=p.stdout.read().decode(\"utf-8\")\n",
    "        outputFile.write(output)\n",
    "    \n",
    "    outputFile.close()\n",
    "    \n",
    "    df = pd.read_csv(result, header=[0])\n",
    "    dataframes.append(df)\n",
    "    \n",
    "dfExp = pd.concat(dataframes)\n",
    "print(dfExp)\n",
    "dfExp['time'] = dfExp.apply(lambda row : getTime(row['sec'],row['ns']), axis = 1)\n",
    "result = dfExp.groupby(['cantThreads', 'algorithm']).mean().reset_index()\n",
    "print(result)\n",
    "ax= sns.pointplot(data=result[(result.algorithm == 'cargarMultiplesArchivos')], x='cantThreads', y='time',hue=\"algorithm\", ci=None)"
   ]
  },
  {
   "cell_type": "code",
   "execution_count": null,
   "metadata": {},
   "outputs": [],
   "source": []
  }
 ],
 "metadata": {
  "kernelspec": {
   "display_name": "Python 3 (ipykernel)",
   "language": "python",
   "name": "python3"
  },
  "language_info": {
   "codemirror_mode": {
    "name": "ipython",
    "version": 3
   },
   "file_extension": ".py",
   "mimetype": "text/x-python",
   "name": "python",
   "nbconvert_exporter": "python",
   "pygments_lexer": "ipython3",
   "version": "3.10.4"
  }
 },
 "nbformat": 4,
 "nbformat_minor": 4
}
