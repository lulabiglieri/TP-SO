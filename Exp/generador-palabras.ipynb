{
 "cells": [
  {
   "cell_type": "markdown",
   "metadata": {},
   "source": [
    "# Generador de datasets"
   ]
  },
  {
   "cell_type": "code",
   "execution_count": 1,
   "metadata": {},
   "outputs": [],
   "source": [
    "import pandas as pd\n",
    "import seaborn as sns\n",
    "import matplotlib.pyplot as plt\n",
    "import random \n",
    "import string\n",
    "import glob, os"
   ]
  },
  {
   "cell_type": "code",
   "execution_count": 2,
   "metadata": {},
   "outputs": [],
   "source": [
    "def generador(filename, char, n):\n",
    "    file = open(f'data/{filename}.txt', 'a')\n",
    "    for _ in range(n):\n",
    "        word = ''.join(random.choice(string.ascii_lowercase) for _ in range(random.randint(3, 9)))\n",
    "        word = char + word\n",
    "        file.write(word + '\\n')\n",
    "    file.close()"
   ]
  },
  {
   "cell_type": "markdown",
   "metadata": {},
   "source": [
    "### Distribucion Uniforme"
   ]
  },
  {
   "cell_type": "code",
   "execution_count": 3,
   "metadata": {},
   "outputs": [
    {
     "name": "stdout",
     "output_type": "stream",
     "text": [
      "10000.000000000002\n"
     ]
    }
   ],
   "source": [
    "cant_palabras = 10000\n",
    "\n",
    "char = 'a'\n",
    "sumaUni = 0\n",
    "for i in range(0,26):\n",
    "    generador(\"uniforme\",char, int(cant_palabras/26) )\n",
    "    char = chr(ord(char) + 1)\n",
    "    sumaUni += cant_palabras/26\n",
    "print(sumaUni) \n",
    "\n",
    "with open('./data/uniforme.txt','r') as source:\n",
    "    data = [ (random.random(), line) for line in source ]\n",
    "data.sort()\n",
    "with open('./data/uniformeRandomized.txt','w') as target:\n",
    "    for _, line in data:\n",
    "        target.write( line )"
   ]
  },
  {
   "cell_type": "markdown",
   "metadata": {},
   "source": [
    "### Distribucion Normal"
   ]
  },
  {
   "cell_type": "code",
   "execution_count": 4,
   "metadata": {},
   "outputs": [
    {
     "name": "stdout",
     "output_type": "stream",
     "text": [
      "10001\n"
     ]
    }
   ],
   "source": [
    "char = 'a'\n",
    "suma =0 \n",
    "for i in range(1,14):\n",
    "    generador(\"normal\",char, int(i*51.35))\n",
    "    char = chr(ord(char) + 1)   \n",
    "    suma += int(i*51.35) \n",
    "for i in range(14,1,-1):        \n",
    "    generador(\"normal\",char,int(i*51.35) )\n",
    "    char = chr(ord(char) + 1)\n",
    "    suma += int(i*51.35)\n",
    "print(suma) \n",
    "\n",
    "with open('./data/normal.txt','r') as source:\n",
    "    data = [ (random.random(), line) for line in source ]\n",
    "data.sort()\n",
    "with open('./data/normalRandomized.txt','w') as target:\n",
    "    for _, line in data:\n",
    "        target.write( line )"
   ]
  },
  {
   "cell_type": "markdown",
   "metadata": {},
   "source": [
    "### Distribucion Bernoulli"
   ]
  },
  {
   "cell_type": "code",
   "execution_count": 5,
   "metadata": {},
   "outputs": [
    {
     "name": "stdout",
     "output_type": "stream",
     "text": [
      "10000.000000000004\n"
     ]
    }
   ],
   "source": [
    "char = 'a'\n",
    "sumaBer =0 \n",
    "cant_palabras1 = 19500\n",
    "cant_palabras2 = 500\n",
    "\n",
    "for i in range(1,14):\n",
    "    generador(\"bernoulli\",char, int(cant_palabras1/26))\n",
    "    char = chr(ord(char) + 1)   \n",
    "    sumaBer += cant_palabras1/26\n",
    "for i in range(14,1,-1):        \n",
    "    generador(\"bernoulli\",char, int(cant_palabras2/26))\n",
    "    char = chr(ord(char) + 1)\n",
    "    sumaBer += cant_palabras2/26\n",
    "print(sumaBer) \n",
    "\n",
    "with open('./data/bernoulli.txt','r') as source:\n",
    "    data = [ (random.random(), line) for line in source ]\n",
    "data.sort()\n",
    "with open('./data/bernoulliRandomized.txt','w') as target:\n",
    "    for _, line in data:\n",
    "        target.write( line )"
   ]
  },
  {
   "cell_type": "markdown",
   "metadata": {},
   "source": [
    "### Ploteo distribuciones"
   ]
  },
  {
   "cell_type": "code",
   "execution_count": 6,
   "metadata": {},
   "outputs": [
    {
     "data": {
      "image/png": "[encoded data removed]",
      "text/plain": [
       "<Figure size 432x288 with 1 Axes>"
      ]
     },
     "metadata": {
      "needs_background": "light"
     },
     "output_type": "display_data"
    }
   ],
   "source": [
    "letter_count = {}\n",
    "datasetPath = './data/uniforme.txt'\n",
    "\n",
    "file = open(datasetPath, 'r')\n",
    "for line in file:\n",
    "    letter_count[line[0]] = letter_count.get(line[0],0) +1\n",
    "    \n",
    "df = pd.DataFrame(letter_count.items(), columns=['letter', 'count'])\n",
    "df = df.sort_values([\"letter\"])\n",
    "df.head()\n",
    "\n",
    "sns.set_style(\"whitegrid\")\n",
    "ax = sns.barplot(data=df,x='letter', y='count', color=\"tab:blue\")\n",
    "ax.set_title(\"Distribución uniforme de palabras segun inicial\")\n",
    "fig = ax.get_figure()\n",
    "\n",
    "##para guardar img\n",
    "imgPath=\"./img/datasetUniforme\"\n",
    "plt.savefig(imgPath)"
   ]
  },
  {
   "cell_type": "code",
   "execution_count": 7,
   "metadata": {},
   "outputs": [
    {
     "data": {
      "image/png": "[encoded data removed]",
      "text/plain": [
       "<Figure size 432x288 with 1 Axes>"
      ]
     },
     "metadata": {},
     "output_type": "display_data"
    }
   ],
   "source": [
    "letter_count = {}\n",
    "datasetPath = './data/normal.txt'\n",
    "\n",
    "file = open(datasetPath, 'r')\n",
    "for line in file:\n",
    "    letter_count[line[0]] = letter_count.get(line[0],0) +1\n",
    "    \n",
    "df = pd.DataFrame(letter_count.items(), columns=['letter', 'count'])\n",
    "df = df.sort_values([\"letter\"])\n",
    "df.head()\n",
    "\n",
    "sns.set_style(\"whitegrid\")\n",
    "ax = sns.barplot(data=df,x='letter', y='count', color=\"tab:blue\")\n",
    "ax.set_title(\"Distribución normal de palabras segun inicial\")\n",
    "fig = ax.get_figure()\n",
    "\n",
    "##para guardar img\n",
    "imgPath=\"./img/datasetNormal\"\n",
    "plt.savefig(imgPath)"
   ]
  },
  {
   "cell_type": "code",
   "execution_count": 8,
   "metadata": {},
   "outputs": [
    {
     "data": {
      "image/png": "[encoded data removed]",
      "text/plain": [
       "<Figure size 432x288 with 1 Axes>"
      ]
     },
     "metadata": {},
     "output_type": "display_data"
    }
   ],
   "source": [
    "letter_count = {}\n",
    "datasetPath = './data/bernoulli.txt'\n",
    "\n",
    "file = open(datasetPath, 'r')\n",
    "for line in file:\n",
    "    letter_count[line[0]] = letter_count.get(line[0],0) +1\n",
    "    \n",
    "df = pd.DataFrame(letter_count.items(), columns=['letter', 'count'])\n",
    "df = df.sort_values([\"letter\"])\n",
    "df.head()\n",
    "\n",
    "sns.set_style(\"whitegrid\")\n",
    "ax = sns.barplot(data=df,x='letter', y='count', color=\"tab:blue\")\n",
    "ax.set_title(\"Distribución bernoulli de palabras segun inicial\")\n",
    "fig = ax.get_figure()\n",
    "\n",
    "##para guardar img\n",
    "imgPath=\"./img/datasetBernoulli\"\n",
    "plt.savefig(imgPath)"
   ]
  },
  {
   "cell_type": "markdown",
   "metadata": {},
   "source": [
    "### Distribucion uniforme multiple"
   ]
  },
  {
   "cell_type": "code",
   "execution_count": 9,
   "metadata": {},
   "outputs": [],
   "source": [
    "cantArchivos = 30\n",
    "cantPalabras = 150\n",
    "for i in range(0,cantArchivos):\n",
    "    char = 'a'\n",
    "    sumaUni = 0\n",
    "    for j in range(0,26):\n",
    "        generador(\"incremental/uniforme\"+str(i),char, int(cantPalabras/26) )\n",
    "        char = chr(ord(char) + 1)\n",
    "        sumaUni += cantPalabras/26\n",
    "#print(sumaUni) \n",
    "\n",
    "\n",
    "for i in range(0,cantArchivos):\n",
    "    with open('./data/incremental/uniforme' +str(i)+ '.txt','r') as source:\n",
    "        data = [ (random.random(), line) for line in source ]\n",
    "    data.sort()\n",
    "    with open('./data/incrementalRand/uniformeRand' +str(i)+ '.txt','w') as target:\n",
    "        for _, line in data:\n",
    "            target.write( line )"
   ]
  },
  {
   "cell_type": "code",
   "execution_count": null,
   "metadata": {},
   "outputs": [],
   "source": []
  }
 ],
 "metadata": {
  "kernelspec": {
   "display_name": "Python 3",
   "language": "python",
   "name": "python3"
  },
  "language_info": {
   "codemirror_mode": {
    "name": "ipython",
    "version": 3
   },
   "file_extension": ".py",
   "mimetype": "text/x-python",
   "name": "python",
   "nbconvert_exporter": "python",
   "pygments_lexer": "ipython3",
   "version": "3.8.10"
  }
 },
 "nbformat": 4,
 "nbformat_minor": 4
}
